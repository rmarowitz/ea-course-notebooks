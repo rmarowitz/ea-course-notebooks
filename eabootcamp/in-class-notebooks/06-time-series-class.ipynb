{
 "cells": [
  {
   "cell_type": "markdown",
<<<<<<< HEAD
   "id": "703f0aec",
   "metadata": {},
   "source": [
    "# Time Series Data in Python - in Class"
=======
   "id": "bba1c535",
   "metadata": {},
   "source": [
    "# Time Series Data in Python - in class"
>>>>>>> 335aee93c87811df231c0bd014e52030a2fbd4d5
   ]
  },
  {
   "cell_type": "code",
<<<<<<< HEAD
   "execution_count": 36,
   "id": "66e251c6",
=======
   "execution_count": 2,
   "id": "a58f1ab0",
>>>>>>> 335aee93c87811df231c0bd014e52030a2fbd4d5
   "metadata": {},
   "outputs": [],
   "source": [
    "import os\n",
    "\n",
    "import earthpy as et\n",
<<<<<<< HEAD
    "import pandas as pd\n",
    "from matplotlib.dates import DateFormatter"
   ]
  },
  {
   "cell_type": "code",
   "execution_count": 45,
   "id": "1678fe56",
   "metadata": {},
   "outputs": [
    {
     "data": {
      "text/plain": [
       "'/Users/robynmarowitz/earth-analytics/data/colorado-flood/.'"
      ]
     },
     "execution_count": 45,
     "metadata": {},
     "output_type": "execute_result"
    }
   ],
   "source": [
    "# Download data using earthpy\n",
    "et.data.get_data('colorado-flood')"
   ]
  },
  {
   "cell_type": "code",
   "execution_count": 47,
   "id": "64442c50",
   "metadata": {},
   "outputs": [
    {
     "name": "stdout",
     "output_type": "stream",
     "text": [
      "/Users/robynmarowitz/earth-analytics/data/colorado-flood\n",
      "/Users/robynmarowitz/earth-analytics/data/colorado-flood/.DS_Store\n",
      "/Users/robynmarowitz/earth-analytics/data/colorado-flood/precipitation\n",
      "/Users/robynmarowitz/earth-analytics/data/colorado-flood/precipitation/PRECIP_HLY_documentation.pdf\n",
      "/Users/robynmarowitz/earth-analytics/data/colorado-flood/precipitation/805333-precip-daily-1948-2013.csv\n",
      "/Users/robynmarowitz/earth-analytics/data/colorado-flood/precipitation/805325-precip-dailysum-2003-2013.csv\n",
      "/Users/robynmarowitz/earth-analytics/data/colorado-flood/precipitation/805325-precip-daily-2003-2013.csv\n",
      "/Users/robynmarowitz/earth-analytics/data/colorado-flood/precipitation/precip-boulder-aug-oct-2013.csv\n",
      "/Users/robynmarowitz/earth-analytics/data/colorado-flood/discharge\n",
      "/Users/robynmarowitz/earth-analytics/data/colorado-flood/discharge/README_dischargeMetadata.rtf\n",
      "/Users/robynmarowitz/earth-analytics/data/colorado-flood/discharge/06730200-discharge-daily-1986-2013.csv\n",
      "/Users/robynmarowitz/earth-analytics/data/colorado-flood/discharge/06730200-discharge-daily-1986-2013.txt\n",
      "/Users/robynmarowitz/earth-analytics/data/colorado-flood/spatial\n",
      "/Users/robynmarowitz/earth-analytics/data/colorado-flood/spatial/boulder-leehill-rd\n",
      "/Users/robynmarowitz/earth-analytics/data/colorado-flood/spatial/boulder-leehill-rd/clip-extent.qpj\n",
      "/Users/robynmarowitz/earth-analytics/data/colorado-flood/spatial/boulder-leehill-rd/clip-extent.prj\n",
      "/Users/robynmarowitz/earth-analytics/data/colorado-flood/spatial/boulder-leehill-rd/README.md\n",
      "/Users/robynmarowitz/earth-analytics/data/colorado-flood/spatial/boulder-leehill-rd/clip-extent.dbf\n",
      "/Users/robynmarowitz/earth-analytics/data/colorado-flood/spatial/boulder-leehill-rd/post-flood\n",
      "/Users/robynmarowitz/earth-analytics/data/colorado-flood/spatial/boulder-leehill-rd/post-flood/lidar\n",
      "/Users/robynmarowitz/earth-analytics/data/colorado-flood/spatial/boulder-leehill-rd/post-flood/lidar/post_DTM_hill.tif\n",
      "/Users/robynmarowitz/earth-analytics/data/colorado-flood/spatial/boulder-leehill-rd/post-flood/lidar/post_DTM.tif\n",
      "/Users/robynmarowitz/earth-analytics/data/colorado-flood/spatial/boulder-leehill-rd/post-flood/lidar/post_DSM.tif\n",
      "/Users/robynmarowitz/earth-analytics/data/colorado-flood/spatial/boulder-leehill-rd/post-flood/lidar/post_DSM_hill.tif\n",
      "/Users/robynmarowitz/earth-analytics/data/colorado-flood/spatial/boulder-leehill-rd/pre-flood\n",
      "/Users/robynmarowitz/earth-analytics/data/colorado-flood/spatial/boulder-leehill-rd/pre-flood/camera\n",
      "/Users/robynmarowitz/earth-analytics/data/colorado-flood/spatial/boulder-leehill-rd/pre-flood/camera/preCamera_Comp.tfw\n",
      "/Users/robynmarowitz/earth-analytics/data/colorado-flood/spatial/boulder-leehill-rd/pre-flood/camera/preCamera_Comp.tif\n",
      "/Users/robynmarowitz/earth-analytics/data/colorado-flood/spatial/boulder-leehill-rd/pre-flood/lidar\n",
      "/Users/robynmarowitz/earth-analytics/data/colorado-flood/spatial/boulder-leehill-rd/pre-flood/lidar/pre_DTM.tif\n",
      "/Users/robynmarowitz/earth-analytics/data/colorado-flood/spatial/boulder-leehill-rd/pre-flood/lidar/pre_DTM_repoject2.tif\n",
      "/Users/robynmarowitz/earth-analytics/data/colorado-flood/spatial/boulder-leehill-rd/pre-flood/lidar/pre_DSM.tif\n",
      "/Users/robynmarowitz/earth-analytics/data/colorado-flood/spatial/boulder-leehill-rd/pre-flood/lidar/pre_DSM_hill.tif\n",
      "/Users/robynmarowitz/earth-analytics/data/colorado-flood/spatial/boulder-leehill-rd/pre-flood/lidar/pre_DTM_repoject.tif\n",
      "/Users/robynmarowitz/earth-analytics/data/colorado-flood/spatial/boulder-leehill-rd/pre-flood/lidar/pre_DTM_hill.tif\n",
      "/Users/robynmarowitz/earth-analytics/data/colorado-flood/spatial/boulder-leehill-rd/clip-extent.shp\n",
      "/Users/robynmarowitz/earth-analytics/data/colorado-flood/spatial/boulder-leehill-rd/outputs\n",
      "/Users/robynmarowitz/earth-analytics/data/colorado-flood/spatial/boulder-leehill-rd/outputs/lidar_chm.tif\n",
      "/Users/robynmarowitz/earth-analytics/data/colorado-flood/spatial/boulder-leehill-rd/clip-extent.shx\n",
      "/Users/robynmarowitz/earth-analytics/data/colorado-flood/spatial/boulder-lidar-points\n",
      "/Users/robynmarowitz/earth-analytics/data/colorado-flood/spatial/boulder-lidar-points/2013_BLDR_flood_2013100814_471000_4428000.laz\n",
      "/Users/robynmarowitz/earth-analytics/data/colorado-flood/spatial/boulder-lidar-points/2013_BLDR_flood_2013100814_476000_4434000.laz\n",
      "/Users/robynmarowitz/earth-analytics/data/colorado-flood/spatial/boulder-lidar-points/2013_BLDR_flood_2013100814_487000_4432000.laz\n",
      "/Users/robynmarowitz/earth-analytics/data/colorado-flood/spatial/README.md\n",
      "/Users/robynmarowitz/earth-analytics/data/colorado-flood/spatial/outputs\n",
      "/Users/robynmarowitz/earth-analytics/data/colorado-flood/spatial/outputs/lidar_chm.tiff\n",
      "/Users/robynmarowitz/earth-analytics/data/colorado-flood/downloads\n",
      "/Users/robynmarowitz/earth-analytics/data/colorado-flood/downloads/boulder-precip.csv\n"
     ]
    }
   ],
   "source": [
    "%%bash\n",
    "find ~/earth-analytics/data/colorado-flood"
=======
    "import pandas as pd"
>>>>>>> 335aee93c87811df231c0bd014e52030a2fbd4d5
   ]
  },
  {
   "cell_type": "code",
   "execution_count": 4,
<<<<<<< HEAD
   "id": "d44b3daf",
=======
   "id": "8e69ce43",
>>>>>>> 335aee93c87811df231c0bd014e52030a2fbd4d5
   "metadata": {},
   "outputs": [
    {
     "data": {
      "text/plain": [
<<<<<<< HEAD
       "'/Users/robynmarowitz/earth-analytics/data/colorado-flood'"
=======
       "'/Users/elsa/earth-analytics/data/colorado-flood/.'"
>>>>>>> 335aee93c87811df231c0bd014e52030a2fbd4d5
      ]
     },
     "execution_count": 4,
     "metadata": {},
     "output_type": "execute_result"
    }
   ],
   "source": [
<<<<<<< HEAD
    "os.chdir(os.path.join(et.io.HOME,\n",
    "                      'earth-analytics',\n",
    "                      'data',\n",
    "                      'colorado-flood'))\n",
    "os.getcwd()"
=======
    "co_flood_path = et.data.get_data('colorado-flood')\n",
    "co_flood_path"
>>>>>>> 335aee93c87811df231c0bd014e52030a2fbd4d5
   ]
  },
  {
   "cell_type": "code",
<<<<<<< HEAD
   "execution_count": 48,
   "id": "656edc18",
=======
   "execution_count": 13,
   "id": "31617828",
>>>>>>> 335aee93c87811df231c0bd014e52030a2fbd4d5
   "metadata": {},
   "outputs": [
    {
     "name": "stdout",
     "output_type": "stream",
     "text": [
<<<<<<< HEAD
      "2.25 µs ± 11.3 ns per loop (mean ± std. dev. of 7 runs, 100,000 loops each)\n"
=======
      "The precipitation file exists!\n",
      "The streamflow file exists!\n"
>>>>>>> 335aee93c87811df231c0bd014e52030a2fbd4d5
     ]
    }
   ],
   "source": [
<<<<<<< HEAD
    "%%timeit\n",
    "# set data paths\n",
    "precip_path = os.path.join(\n",
    "    'precipitation', \n",
    "    '805333-precip-daily-1948-2013.csv')\n",
    "os.path.exists(precip_path)"
=======
    "os.chdir(os.path.join(\n",
    "    et.io.HOME, \n",
    "    'earth-analytics',\n",
    "    'data',\n",
    "    'colorado-flood'))\n",
    "\n",
    "# Define precipitation path\n",
    "precip_path = os.path.join(\n",
    "    'precipitation',\n",
    "    '805333-precip-daily-1948-2013.csv')\n",
    "\n",
    "if os.path.exists(precip_path):\n",
    "    print('The precipitation file exists!')\n",
    "else:\n",
    "    raise ValueError('The precipitation file does not exist.')\n",
    "    \n",
    "# Define streamflowpath\n",
    "streamflow_path = os.path.join(\n",
    "    'discharge',\n",
    "    '06730200-discharge-daily-1986-2013.csv')\n",
    "\n",
    "if os.path.exists(streamflow_path):\n",
    "    print('The streamflow file exists!')\n",
    "else:\n",
    "    raise ValueError('The streamflow file does not exist.')"
>>>>>>> 335aee93c87811df231c0bd014e52030a2fbd4d5
   ]
  },
  {
   "cell_type": "code",
<<<<<<< HEAD
   "execution_count": 18,
   "id": "1222fcf1",
=======
   "execution_count": 29,
   "id": "9ef37eae",
>>>>>>> 335aee93c87811df231c0bd014e52030a2fbd4d5
   "metadata": {},
   "outputs": [
    {
     "data": {
<<<<<<< HEAD
      "text/html": [
       "<div>\n",
       "<style scoped>\n",
       "    .dataframe tbody tr th:only-of-type {\n",
       "        vertical-align: middle;\n",
       "    }\n",
       "\n",
       "    .dataframe tbody tr th {\n",
       "        vertical-align: top;\n",
       "    }\n",
       "\n",
       "    .dataframe thead th {\n",
       "        text-align: right;\n",
       "    }\n",
       "</style>\n",
       "<table border=\"1\" class=\"dataframe\">\n",
       "  <thead>\n",
       "    <tr style=\"text-align: right;\">\n",
       "      <th></th>\n",
       "      <th>STATION</th>\n",
       "      <th>STATION_NAME</th>\n",
       "      <th>ELEVATION</th>\n",
       "      <th>LATITUDE</th>\n",
       "      <th>LONGITUDE</th>\n",
       "      <th>HPCP</th>\n",
       "      <th>Measurement Flag</th>\n",
       "      <th>Quality Flag</th>\n",
       "    </tr>\n",
       "    <tr>\n",
       "      <th>DATE</th>\n",
       "      <th></th>\n",
       "      <th></th>\n",
       "      <th></th>\n",
       "      <th></th>\n",
       "      <th></th>\n",
       "      <th></th>\n",
       "      <th></th>\n",
       "      <th></th>\n",
       "    </tr>\n",
       "  </thead>\n",
       "  <tbody>\n",
       "    <tr>\n",
       "      <th>1948-08-01 01:00:00</th>\n",
       "      <td>COOP:050843</td>\n",
       "      <td>BOULDER 2 CO US</td>\n",
       "      <td>unknown</td>\n",
       "      <td>unknown</td>\n",
       "      <td>unknown</td>\n",
       "      <td>0.00</td>\n",
       "      <td>g</td>\n",
       "      <td></td>\n",
       "    </tr>\n",
       "    <tr>\n",
       "      <th>1948-08-02 15:00:00</th>\n",
       "      <td>COOP:050843</td>\n",
       "      <td>BOULDER 2 CO US</td>\n",
       "      <td>unknown</td>\n",
       "      <td>unknown</td>\n",
       "      <td>unknown</td>\n",
       "      <td>0.05</td>\n",
       "      <td></td>\n",
       "      <td></td>\n",
       "    </tr>\n",
       "    <tr>\n",
       "      <th>1948-08-03 09:00:00</th>\n",
       "      <td>COOP:050843</td>\n",
       "      <td>BOULDER 2 CO US</td>\n",
       "      <td>unknown</td>\n",
       "      <td>unknown</td>\n",
       "      <td>unknown</td>\n",
       "      <td>0.01</td>\n",
       "      <td></td>\n",
       "      <td></td>\n",
       "    </tr>\n",
       "    <tr>\n",
       "      <th>1948-08-03 14:00:00</th>\n",
       "      <td>COOP:050843</td>\n",
       "      <td>BOULDER 2 CO US</td>\n",
       "      <td>unknown</td>\n",
       "      <td>unknown</td>\n",
       "      <td>unknown</td>\n",
       "      <td>0.03</td>\n",
       "      <td></td>\n",
       "      <td></td>\n",
       "    </tr>\n",
       "    <tr>\n",
       "      <th>1948-08-03 15:00:00</th>\n",
       "      <td>COOP:050843</td>\n",
       "      <td>BOULDER 2 CO US</td>\n",
       "      <td>unknown</td>\n",
       "      <td>unknown</td>\n",
       "      <td>unknown</td>\n",
       "      <td>0.03</td>\n",
       "      <td></td>\n",
       "      <td></td>\n",
       "    </tr>\n",
       "    <tr>\n",
       "      <th>...</th>\n",
       "      <td>...</td>\n",
       "      <td>...</td>\n",
       "      <td>...</td>\n",
       "      <td>...</td>\n",
       "      <td>...</td>\n",
       "      <td>...</td>\n",
       "      <td>...</td>\n",
       "      <td>...</td>\n",
       "    </tr>\n",
       "    <tr>\n",
       "      <th>2013-12-22 01:00:00</th>\n",
       "      <td>COOP:050843</td>\n",
       "      <td>BOULDER 2 CO US</td>\n",
       "      <td>1650.5</td>\n",
       "      <td>40.0338</td>\n",
       "      <td>-105.2811</td>\n",
       "      <td>NaN</td>\n",
       "      <td>[</td>\n",
       "      <td></td>\n",
       "    </tr>\n",
       "    <tr>\n",
       "      <th>2013-12-23 00:00:00</th>\n",
       "      <td>COOP:050843</td>\n",
       "      <td>BOULDER 2 CO US</td>\n",
       "      <td>1650.5</td>\n",
       "      <td>40.0338</td>\n",
       "      <td>-105.2811</td>\n",
       "      <td>NaN</td>\n",
       "      <td>]</td>\n",
       "      <td></td>\n",
       "    </tr>\n",
       "    <tr>\n",
       "      <th>2013-12-23 02:00:00</th>\n",
       "      <td>COOP:050843</td>\n",
       "      <td>BOULDER 2 CO US</td>\n",
       "      <td>1650.5</td>\n",
       "      <td>40.0338</td>\n",
       "      <td>-105.2811</td>\n",
       "      <td>0.10</td>\n",
       "      <td></td>\n",
       "      <td></td>\n",
       "    </tr>\n",
       "    <tr>\n",
       "      <th>2013-12-29 01:00:00</th>\n",
       "      <td>COOP:050843</td>\n",
       "      <td>BOULDER 2 CO US</td>\n",
       "      <td>1650.5</td>\n",
       "      <td>40.0338</td>\n",
       "      <td>-105.2811</td>\n",
       "      <td>NaN</td>\n",
       "      <td>[</td>\n",
       "      <td></td>\n",
       "    </tr>\n",
       "    <tr>\n",
       "      <th>2013-12-31 00:00:00</th>\n",
       "      <td>COOP:050843</td>\n",
       "      <td>BOULDER 2 CO US</td>\n",
       "      <td>1650.5</td>\n",
       "      <td>40.0338</td>\n",
       "      <td>-105.2811</td>\n",
       "      <td>NaN</td>\n",
       "      <td>]</td>\n",
       "      <td></td>\n",
       "    </tr>\n",
       "  </tbody>\n",
       "</table>\n",
       "<p>14476 rows × 8 columns</p>\n",
       "</div>"
      ],
      "text/plain": [
       "                         STATION     STATION_NAME ELEVATION LATITUDE  \\\n",
       "DATE                                                                   \n",
       "1948-08-01 01:00:00  COOP:050843  BOULDER 2 CO US   unknown  unknown   \n",
       "1948-08-02 15:00:00  COOP:050843  BOULDER 2 CO US   unknown  unknown   \n",
       "1948-08-03 09:00:00  COOP:050843  BOULDER 2 CO US   unknown  unknown   \n",
       "1948-08-03 14:00:00  COOP:050843  BOULDER 2 CO US   unknown  unknown   \n",
       "1948-08-03 15:00:00  COOP:050843  BOULDER 2 CO US   unknown  unknown   \n",
       "...                          ...              ...       ...      ...   \n",
       "2013-12-22 01:00:00  COOP:050843  BOULDER 2 CO US    1650.5  40.0338   \n",
       "2013-12-23 00:00:00  COOP:050843  BOULDER 2 CO US    1650.5  40.0338   \n",
       "2013-12-23 02:00:00  COOP:050843  BOULDER 2 CO US    1650.5  40.0338   \n",
       "2013-12-29 01:00:00  COOP:050843  BOULDER 2 CO US    1650.5  40.0338   \n",
       "2013-12-31 00:00:00  COOP:050843  BOULDER 2 CO US    1650.5  40.0338   \n",
       "\n",
       "                     LONGITUDE  HPCP Measurement Flag Quality Flag  \n",
       "DATE                                                                \n",
       "1948-08-01 01:00:00    unknown  0.00                g               \n",
       "1948-08-02 15:00:00    unknown  0.05                                \n",
       "1948-08-03 09:00:00    unknown  0.01                                \n",
       "1948-08-03 14:00:00    unknown  0.03                                \n",
       "1948-08-03 15:00:00    unknown  0.03                                \n",
       "...                        ...   ...              ...          ...  \n",
       "2013-12-22 01:00:00  -105.2811   NaN                [               \n",
       "2013-12-23 00:00:00  -105.2811   NaN                ]               \n",
       "2013-12-23 02:00:00  -105.2811  0.10                                \n",
       "2013-12-29 01:00:00  -105.2811   NaN                [               \n",
       "2013-12-31 00:00:00  -105.2811   NaN                ]               \n",
       "\n",
       "[14476 rows x 8 columns]"
      ]
     },
     "execution_count": 18,
     "metadata": {},
     "output_type": "execute_result"
    }
   ],
   "source": [
    "precip_df = pd.read_csv(\n",
    "    precip_path,\n",
    "    index_col = 'DATE',\n",
    "    parse_dates=True,\n",
    "    na_values=999.99\n",
    ")\n",
    "precip_df"
   ]
  },
  {
   "cell_type": "code",
   "execution_count": 23,
   "id": "9cb667bd",
   "metadata": {
    "scrolled": true
   },
   "outputs": [
    {
     "data": {
      "text/html": [
       "<div>\n",
       "<style scoped>\n",
       "    .dataframe tbody tr th:only-of-type {\n",
       "        vertical-align: middle;\n",
       "    }\n",
       "\n",
       "    .dataframe tbody tr th {\n",
       "        vertical-align: top;\n",
       "    }\n",
       "\n",
       "    .dataframe thead th {\n",
       "        text-align: right;\n",
       "    }\n",
       "</style>\n",
       "<table border=\"1\" class=\"dataframe\">\n",
       "  <thead>\n",
       "    <tr style=\"text-align: right;\">\n",
       "      <th></th>\n",
       "      <th>HPCP</th>\n",
       "    </tr>\n",
       "    <tr>\n",
       "      <th>DATE</th>\n",
       "      <th></th>\n",
       "    </tr>\n",
       "  </thead>\n",
       "  <tbody>\n",
       "    <tr>\n",
       "      <th>1948-08-01</th>\n",
       "      <td>0.00</td>\n",
       "    </tr>\n",
       "    <tr>\n",
       "      <th>1948-08-02</th>\n",
       "      <td>0.05</td>\n",
       "    </tr>\n",
       "    <tr>\n",
       "      <th>1948-08-03</th>\n",
       "      <td>0.07</td>\n",
       "    </tr>\n",
       "    <tr>\n",
       "      <th>1948-08-04</th>\n",
       "      <td>0.14</td>\n",
       "    </tr>\n",
       "    <tr>\n",
       "      <th>1948-08-05</th>\n",
       "      <td>0.02</td>\n",
       "    </tr>\n",
       "    <tr>\n",
       "      <th>...</th>\n",
       "      <td>...</td>\n",
       "    </tr>\n",
       "    <tr>\n",
       "      <th>2013-12-27</th>\n",
       "      <td>0.00</td>\n",
       "    </tr>\n",
       "    <tr>\n",
       "      <th>2013-12-28</th>\n",
       "      <td>0.00</td>\n",
       "    </tr>\n",
       "    <tr>\n",
       "      <th>2013-12-29</th>\n",
       "      <td>0.00</td>\n",
       "    </tr>\n",
       "    <tr>\n",
       "      <th>2013-12-30</th>\n",
       "      <td>0.00</td>\n",
       "    </tr>\n",
       "    <tr>\n",
       "      <th>2013-12-31</th>\n",
       "      <td>0.00</td>\n",
       "    </tr>\n",
       "  </tbody>\n",
       "</table>\n",
       "<p>23894 rows × 1 columns</p>\n",
       "</div>"
      ],
      "text/plain": [
       "            HPCP\n",
       "DATE            \n",
       "1948-08-01  0.00\n",
       "1948-08-02  0.05\n",
       "1948-08-03  0.07\n",
       "1948-08-04  0.14\n",
       "1948-08-05  0.02\n",
       "...          ...\n",
       "2013-12-27  0.00\n",
       "2013-12-28  0.00\n",
       "2013-12-29  0.00\n",
       "2013-12-30  0.00\n",
       "2013-12-31  0.00\n",
       "\n",
       "[23894 rows x 1 columns]"
      ]
     },
     "execution_count": 23,
     "metadata": {},
     "output_type": "execute_result"
    }
   ],
   "source": [
    "# resample to daily sums\n",
    "precip_daily_df = precip_df.resample('D').sum()\n",
    "precip_daily_df"
   ]
  },
  {
   "cell_type": "code",
   "execution_count": 22,
   "id": "f26f2ab6",
   "metadata": {},
   "outputs": [
    {
     "data": {
      "text/html": [
       "<div>\n",
       "<style scoped>\n",
       "    .dataframe tbody tr th:only-of-type {\n",
       "        vertical-align: middle;\n",
       "    }\n",
       "\n",
       "    .dataframe tbody tr th {\n",
       "        vertical-align: top;\n",
       "    }\n",
       "\n",
       "    .dataframe thead th {\n",
       "        text-align: right;\n",
       "    }\n",
       "</style>\n",
       "<table border=\"1\" class=\"dataframe\">\n",
       "  <thead>\n",
       "    <tr style=\"text-align: right;\">\n",
       "      <th></th>\n",
       "      <th>STATION</th>\n",
       "      <th>STATION_NAME</th>\n",
       "      <th>ELEVATION</th>\n",
       "      <th>LATITUDE</th>\n",
       "      <th>LONGITUDE</th>\n",
       "      <th>HPCP</th>\n",
       "      <th>Measurement Flag</th>\n",
       "      <th>Quality Flag</th>\n",
       "    </tr>\n",
       "    <tr>\n",
       "      <th>DATE</th>\n",
       "      <th></th>\n",
       "      <th></th>\n",
       "      <th></th>\n",
       "      <th></th>\n",
       "      <th></th>\n",
       "      <th></th>\n",
       "      <th></th>\n",
       "      <th></th>\n",
       "    </tr>\n",
       "  </thead>\n",
       "  <tbody>\n",
       "    <tr>\n",
       "      <th>1948-08-01 01:00:00</th>\n",
       "      <td>COOP:050843</td>\n",
       "      <td>BOULDER 2 CO US</td>\n",
       "      <td>unknown</td>\n",
       "      <td>unknown</td>\n",
       "      <td>unknown</td>\n",
       "      <td>0.0</td>\n",
       "      <td>g</td>\n",
       "      <td></td>\n",
       "    </tr>\n",
       "    <tr>\n",
       "      <th>1948-08-01 02:00:00</th>\n",
       "      <td>COOP:050843</td>\n",
       "      <td>BOULDER 2 CO US</td>\n",
       "      <td>unknown</td>\n",
       "      <td>unknown</td>\n",
       "      <td>unknown</td>\n",
       "      <td>0.0</td>\n",
       "      <td>g</td>\n",
       "      <td></td>\n",
       "    </tr>\n",
       "    <tr>\n",
       "      <th>1948-08-01 03:00:00</th>\n",
       "      <td>COOP:050843</td>\n",
       "      <td>BOULDER 2 CO US</td>\n",
       "      <td>unknown</td>\n",
       "      <td>unknown</td>\n",
       "      <td>unknown</td>\n",
       "      <td>0.0</td>\n",
       "      <td>g</td>\n",
       "      <td></td>\n",
       "    </tr>\n",
       "    <tr>\n",
       "      <th>1948-08-01 04:00:00</th>\n",
       "      <td>COOP:050843</td>\n",
       "      <td>BOULDER 2 CO US</td>\n",
       "      <td>unknown</td>\n",
       "      <td>unknown</td>\n",
       "      <td>unknown</td>\n",
       "      <td>0.0</td>\n",
       "      <td>g</td>\n",
       "      <td></td>\n",
       "    </tr>\n",
       "    <tr>\n",
       "      <th>1948-08-01 05:00:00</th>\n",
       "      <td>COOP:050843</td>\n",
       "      <td>BOULDER 2 CO US</td>\n",
       "      <td>unknown</td>\n",
       "      <td>unknown</td>\n",
       "      <td>unknown</td>\n",
       "      <td>0.0</td>\n",
       "      <td>g</td>\n",
       "      <td></td>\n",
       "    </tr>\n",
       "    <tr>\n",
       "      <th>...</th>\n",
       "      <td>...</td>\n",
       "      <td>...</td>\n",
       "      <td>...</td>\n",
       "      <td>...</td>\n",
       "      <td>...</td>\n",
       "      <td>...</td>\n",
       "      <td>...</td>\n",
       "      <td>...</td>\n",
       "    </tr>\n",
       "    <tr>\n",
       "      <th>2013-12-30 20:00:00</th>\n",
       "      <td>COOP:050843</td>\n",
       "      <td>BOULDER 2 CO US</td>\n",
       "      <td>1650.5</td>\n",
       "      <td>40.0338</td>\n",
       "      <td>-105.2811</td>\n",
       "      <td>NaN</td>\n",
       "      <td>[</td>\n",
       "      <td></td>\n",
       "    </tr>\n",
       "    <tr>\n",
       "      <th>2013-12-30 21:00:00</th>\n",
       "      <td>COOP:050843</td>\n",
       "      <td>BOULDER 2 CO US</td>\n",
       "      <td>1650.5</td>\n",
       "      <td>40.0338</td>\n",
       "      <td>-105.2811</td>\n",
       "      <td>NaN</td>\n",
       "      <td>[</td>\n",
       "      <td></td>\n",
       "    </tr>\n",
       "    <tr>\n",
       "      <th>2013-12-30 22:00:00</th>\n",
       "      <td>COOP:050843</td>\n",
       "      <td>BOULDER 2 CO US</td>\n",
       "      <td>1650.5</td>\n",
       "      <td>40.0338</td>\n",
       "      <td>-105.2811</td>\n",
       "      <td>NaN</td>\n",
       "      <td>[</td>\n",
       "      <td></td>\n",
       "    </tr>\n",
       "    <tr>\n",
       "      <th>2013-12-30 23:00:00</th>\n",
       "      <td>COOP:050843</td>\n",
       "      <td>BOULDER 2 CO US</td>\n",
       "      <td>1650.5</td>\n",
       "      <td>40.0338</td>\n",
       "      <td>-105.2811</td>\n",
       "      <td>NaN</td>\n",
       "      <td>[</td>\n",
       "      <td></td>\n",
       "    </tr>\n",
       "    <tr>\n",
       "      <th>2013-12-31 00:00:00</th>\n",
       "      <td>COOP:050843</td>\n",
       "      <td>BOULDER 2 CO US</td>\n",
       "      <td>1650.5</td>\n",
       "      <td>40.0338</td>\n",
       "      <td>-105.2811</td>\n",
       "      <td>NaN</td>\n",
       "      <td>]</td>\n",
       "      <td></td>\n",
       "    </tr>\n",
       "  </tbody>\n",
       "</table>\n",
       "<p>573432 rows × 8 columns</p>\n",
       "</div>"
      ],
      "text/plain": [
       "                         STATION     STATION_NAME ELEVATION LATITUDE  \\\n",
       "DATE                                                                   \n",
       "1948-08-01 01:00:00  COOP:050843  BOULDER 2 CO US   unknown  unknown   \n",
       "1948-08-01 02:00:00  COOP:050843  BOULDER 2 CO US   unknown  unknown   \n",
       "1948-08-01 03:00:00  COOP:050843  BOULDER 2 CO US   unknown  unknown   \n",
       "1948-08-01 04:00:00  COOP:050843  BOULDER 2 CO US   unknown  unknown   \n",
       "1948-08-01 05:00:00  COOP:050843  BOULDER 2 CO US   unknown  unknown   \n",
       "...                          ...              ...       ...      ...   \n",
       "2013-12-30 20:00:00  COOP:050843  BOULDER 2 CO US    1650.5  40.0338   \n",
       "2013-12-30 21:00:00  COOP:050843  BOULDER 2 CO US    1650.5  40.0338   \n",
       "2013-12-30 22:00:00  COOP:050843  BOULDER 2 CO US    1650.5  40.0338   \n",
       "2013-12-30 23:00:00  COOP:050843  BOULDER 2 CO US    1650.5  40.0338   \n",
       "2013-12-31 00:00:00  COOP:050843  BOULDER 2 CO US    1650.5  40.0338   \n",
       "\n",
       "                     LONGITUDE  HPCP Measurement Flag Quality Flag  \n",
       "DATE                                                                \n",
       "1948-08-01 01:00:00    unknown   0.0                g               \n",
       "1948-08-01 02:00:00    unknown   0.0                g               \n",
       "1948-08-01 03:00:00    unknown   0.0                g               \n",
       "1948-08-01 04:00:00    unknown   0.0                g               \n",
       "1948-08-01 05:00:00    unknown   0.0                g               \n",
       "...                        ...   ...              ...          ...  \n",
       "2013-12-30 20:00:00  -105.2811   NaN                [               \n",
       "2013-12-30 21:00:00  -105.2811   NaN                [               \n",
       "2013-12-30 22:00:00  -105.2811   NaN                [               \n",
       "2013-12-30 23:00:00  -105.2811   NaN                [               \n",
       "2013-12-31 00:00:00  -105.2811   NaN                ]               \n",
       "\n",
       "[573432 rows x 8 columns]"
      ]
     },
     "execution_count": 22,
     "metadata": {},
     "output_type": "execute_result"
    }
   ],
   "source": [
    "# filling example\n",
    "precip_df.resample('H').ffill()"
=======
      "text/plain": [
       "<AxesSubplot:ylabel='Frequency'>"
      ]
     },
     "execution_count": 29,
     "metadata": {},
     "output_type": "execute_result"
    },
    {
     "data": {
      "image/png": "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\n",
      "text/plain": [
       "<Figure size 432x288 with 1 Axes>"
      ]
     },
     "metadata": {
      "needs_background": "light"
     },
     "output_type": "display_data"
    }
   ],
   "source": [
    "# Import precipitation data as a DataFrame\n",
    "precip_df = pd.read_csv(\n",
    "    precip_path,\n",
    "    index_col='DATE',\n",
    "    parse_dates=True,\n",
    "    na_values=999.99,\n",
    ")\n",
    "precip_df.HPCP.plot.hist()"
>>>>>>> 335aee93c87811df231c0bd014e52030a2fbd4d5
   ]
  },
  {
   "cell_type": "code",
<<<<<<< HEAD
   "execution_count": 28,
   "id": "196f6290",
=======
   "execution_count": 26,
   "id": "d9a6667a",
>>>>>>> 335aee93c87811df231c0bd014e52030a2fbd4d5
   "metadata": {},
   "outputs": [
    {
     "data": {
<<<<<<< HEAD
      "text/html": [
       "<div>\n",
       "<style scoped>\n",
       "    .dataframe tbody tr th:only-of-type {\n",
       "        vertical-align: middle;\n",
       "    }\n",
       "\n",
       "    .dataframe tbody tr th {\n",
       "        vertical-align: top;\n",
       "    }\n",
       "\n",
       "    .dataframe thead th {\n",
       "        text-align: right;\n",
       "    }\n",
       "</style>\n",
       "<table border=\"1\" class=\"dataframe\">\n",
       "  <thead>\n",
       "    <tr style=\"text-align: right;\">\n",
       "      <th></th>\n",
       "      <th>STATION</th>\n",
       "      <th>STATION_NAME</th>\n",
       "      <th>ELEVATION</th>\n",
       "      <th>LATITUDE</th>\n",
       "      <th>LONGITUDE</th>\n",
       "      <th>HPCP</th>\n",
       "      <th>Measurement Flag</th>\n",
       "      <th>Quality Flag</th>\n",
       "    </tr>\n",
       "    <tr>\n",
       "      <th>DATE</th>\n",
       "      <th></th>\n",
       "      <th></th>\n",
       "      <th></th>\n",
       "      <th></th>\n",
       "      <th></th>\n",
       "      <th></th>\n",
       "      <th></th>\n",
       "      <th></th>\n",
       "    </tr>\n",
       "  </thead>\n",
       "  <tbody>\n",
       "    <tr>\n",
       "      <th>1948-08-03 09:00:00</th>\n",
       "      <td>COOP:050843</td>\n",
       "      <td>BOULDER 2 CO US</td>\n",
       "      <td>unknown</td>\n",
       "      <td>unknown</td>\n",
       "      <td>unknown</td>\n",
       "      <td>0.01</td>\n",
       "      <td></td>\n",
       "      <td></td>\n",
       "    </tr>\n",
       "    <tr>\n",
       "      <th>1948-08-03 14:00:00</th>\n",
       "      <td>COOP:050843</td>\n",
       "      <td>BOULDER 2 CO US</td>\n",
       "      <td>unknown</td>\n",
       "      <td>unknown</td>\n",
       "      <td>unknown</td>\n",
       "      <td>0.03</td>\n",
       "      <td></td>\n",
       "      <td></td>\n",
       "    </tr>\n",
       "    <tr>\n",
       "      <th>1948-08-03 15:00:00</th>\n",
       "      <td>COOP:050843</td>\n",
       "      <td>BOULDER 2 CO US</td>\n",
       "      <td>unknown</td>\n",
       "      <td>unknown</td>\n",
       "      <td>unknown</td>\n",
       "      <td>0.03</td>\n",
       "      <td></td>\n",
       "      <td></td>\n",
       "    </tr>\n",
       "  </tbody>\n",
       "</table>\n",
       "</div>"
      ],
      "text/plain": [
       "                         STATION     STATION_NAME ELEVATION LATITUDE  \\\n",
       "DATE                                                                   \n",
       "1948-08-03 09:00:00  COOP:050843  BOULDER 2 CO US   unknown  unknown   \n",
       "1948-08-03 14:00:00  COOP:050843  BOULDER 2 CO US   unknown  unknown   \n",
       "1948-08-03 15:00:00  COOP:050843  BOULDER 2 CO US   unknown  unknown   \n",
       "\n",
       "                    LONGITUDE  HPCP Measurement Flag Quality Flag  \n",
       "DATE                                                               \n",
       "1948-08-03 09:00:00   unknown  0.01                                \n",
       "1948-08-03 14:00:00   unknown  0.03                                \n",
       "1948-08-03 15:00:00   unknown  0.03                                "
      ]
     },
     "execution_count": 28,
     "metadata": {},
     "output_type": "execute_result"
    }
   ],
   "source": [
    "precip_df.loc['1948-08-03']"
   ]
  },
  {
   "cell_type": "code",
   "execution_count": 31,
   "id": "4f910624",
   "metadata": {},
   "outputs": [
    {
     "data": {
      "text/html": [
       "<div>\n",
       "<style scoped>\n",
       "    .dataframe tbody tr th:only-of-type {\n",
       "        vertical-align: middle;\n",
       "    }\n",
       "\n",
       "    .dataframe tbody tr th {\n",
       "        vertical-align: top;\n",
       "    }\n",
       "\n",
       "    .dataframe thead th {\n",
       "        text-align: right;\n",
       "    }\n",
       "</style>\n",
       "<table border=\"1\" class=\"dataframe\">\n",
       "  <thead>\n",
       "    <tr style=\"text-align: right;\">\n",
       "      <th></th>\n",
       "      <th>HPCP</th>\n",
       "    </tr>\n",
       "    <tr>\n",
       "      <th>DATE</th>\n",
       "      <th></th>\n",
       "    </tr>\n",
       "  </thead>\n",
       "  <tbody>\n",
       "    <tr>\n",
       "      <th>2013-09-12</th>\n",
       "      <td>7.3</td>\n",
       "    </tr>\n",
       "  </tbody>\n",
       "</table>\n",
       "</div>"
      ],
      "text/plain": [
       "            HPCP\n",
       "DATE            \n",
       "2013-09-12   7.3"
      ]
     },
     "execution_count": 31,
     "metadata": {},
     "output_type": "execute_result"
    }
   ],
   "source": [
    "precip_daily_df[precip_daily_df.HPCP==precip_daily_df.HPCP.max()]"
=======
      "text/plain": [
       "<AxesSubplot:xlabel='DATE'>"
      ]
     },
     "execution_count": 26,
     "metadata": {},
     "output_type": "execute_result"
    },
    {
     "data": {
      "image/png": "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\n",
      "text/plain": [
       "<Figure size 432x288 with 1 Axes>"
      ]
     },
     "metadata": {
      "needs_background": "light"
     },
     "output_type": "display_data"
    }
   ],
   "source": [
    "precip_df.HPCP.plot.bar()"
>>>>>>> 335aee93c87811df231c0bd014e52030a2fbd4d5
   ]
  },
  {
   "cell_type": "code",
<<<<<<< HEAD
   "execution_count": 44,
   "id": "e65a0586",
   "metadata": {},
   "outputs": [
    {
     "data": {
      "image/png": "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\n",
      "text/plain": [
       "<Figure size 640x480 with 1 Axes>"
      ]
     },
     "metadata": {},
     "output_type": "display_data"
    }
   ],
   "source": [
    "ax = precip_daily_df['2013-08':'2013-10'].HPCP.plot(rot=45)\n",
    "ax.xaxis.set_major_formatter(DateFormatter('%b-%Y'))"
   ]
=======
   "execution_count": null,
   "id": "24b14b0c",
   "metadata": {},
   "outputs": [],
   "source": []
>>>>>>> 335aee93c87811df231c0bd014e52030a2fbd4d5
  }
 ],
 "metadata": {
  "kernelspec": {
   "display_name": "Python 3 (ipykernel)",
   "language": "python",
   "name": "python3"
  },
  "language_info": {
   "codemirror_mode": {
    "name": "ipython",
    "version": 3
   },
   "file_extension": ".py",
   "mimetype": "text/x-python",
   "name": "python",
   "nbconvert_exporter": "python",
   "pygments_lexer": "ipython3",
<<<<<<< HEAD
   "version": "3.8.13"
=======
   "version": "3.8.12"
  },
  "varInspector": {
   "cols": {
    "lenName": 16,
    "lenType": 16,
    "lenVar": 40
   },
   "kernels_config": {
    "python": {
     "delete_cmd_postfix": "",
     "delete_cmd_prefix": "del ",
     "library": "var_list.py",
     "varRefreshCmd": "print(var_dic_list())"
    },
    "r": {
     "delete_cmd_postfix": ") ",
     "delete_cmd_prefix": "rm(",
     "library": "var_list.r",
     "varRefreshCmd": "cat(var_dic_list()) "
    }
   },
   "types_to_exclude": [
    "module",
    "function",
    "builtin_function_or_method",
    "instance",
    "_Feature"
   ],
   "window_display": false
>>>>>>> 335aee93c87811df231c0bd014e52030a2fbd4d5
  }
 },
 "nbformat": 4,
 "nbformat_minor": 5
}
