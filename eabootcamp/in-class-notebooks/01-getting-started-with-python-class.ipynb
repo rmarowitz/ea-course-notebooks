{
 "cells": [
  {
   "cell_type": "markdown",
   "id": "2323c5bf",
   "metadata": {},
   "source": [
    "# Get Started with Python\n",
    "Earth Analytics Bootcamp Demo Notebook Week 2"
   ]
  },
  {
   "cell_type": "markdown",
   "id": "8557643d",
   "metadata": {},
   "source": [
    "## Variables\n",
    "Python uses \"duck typing,\" which makes it easy to get started because you don't have to specify the type of every variable. Sometimes you will still want to know what type Python decided on - For that you can use the `type()` function."
   ]
  },
  {
   "cell_type": "markdown",
   "id": "c0d30f28",
   "metadata": {},
   "source": [
    "*Define a variable for the conversion factor between inches and millimeters*"
   ]
  },
  {
   "cell_type": "code",
   "execution_count": null,
   "id": "6d0417ca",
   "metadata": {},
   "outputs": [],
<<<<<<< HEAD
   "source": [
    "in_to_mm = 25.4"
   ]
=======
   "source": []
>>>>>>> 335aee93c87811df231c0bd014e52030a2fbd4d5
  },
  {
   "cell_type": "markdown",
   "id": "1d588de0",
   "metadata": {},
   "source": [
    "*Define a variable for the number of months in a year*"
   ]
  },
  {
   "cell_type": "code",
   "execution_count": null,
   "id": "62e85957",
   "metadata": {},
   "outputs": [],
<<<<<<< HEAD
   "source": [
    "months_in_year = 12"
   ]
=======
   "source": []
>>>>>>> 335aee93c87811df231c0bd014e52030a2fbd4d5
  },
  {
   "cell_type": "markdown",
   "id": "d55d822d",
   "metadata": {},
   "source": [
    "*Define a variable for the 3-letter abbreviation for the month of November*"
   ]
  },
  {
   "cell_type": "code",
   "execution_count": null,
   "id": "e30e08d7",
   "metadata": {},
   "outputs": [],
<<<<<<< HEAD
   "source": [
    "Nov = 'Nov'"
   ]
=======
   "source": []
>>>>>>> 335aee93c87811df231c0bd014e52030a2fbd4d5
  },
  {
   "cell_type": "markdown",
   "id": "f1f4581a",
   "metadata": {},
   "source": [
    "## Operators"
   ]
  },
  {
   "cell_type": "markdown",
   "id": "1fe1bf29",
   "metadata": {},
   "source": [
    "*Convert 1 mm of rain to inches*"
   ]
  },
  {
   "cell_type": "code",
   "execution_count": null,
   "id": "89298c00",
   "metadata": {},
   "outputs": [],
   "source": []
  },
  {
   "cell_type": "markdown",
   "id": "33b3dd66",
   "metadata": {},
   "source": [
    "*Define a variable, precip, as 2.36 inches, and convert **the same variable** to mm*"
   ]
  },
  {
   "cell_type": "code",
   "execution_count": null,
   "id": "d4ea4128",
   "metadata": {},
   "outputs": [],
   "source": []
  },
  {
   "cell_type": "markdown",
   "id": "acc12ad0",
   "metadata": {},
   "source": [
    "*Define two variables, `april_precip_mm` (43.2 mm) and `may_precip_mm` (15.6 mm). Check if April precipitation was more than May precipitation.*"
   ]
  },
  {
   "cell_type": "code",
   "execution_count": null,
   "id": "5b0b92a3",
   "metadata": {},
   "outputs": [],
   "source": []
  },
  {
   "cell_type": "markdown",
   "id": "e6af7b7d",
   "metadata": {},
   "source": [
    "#### Some less intuitive operators\n",
    "There are a couple of operators in Python that don't do what most people expect"
   ]
  },
  {
   "cell_type": "markdown",
   "id": "c13d9b3c",
   "metadata": {},
   "source": [
    "*Compute the area of a 500 m raster pixel*"
   ]
  },
  {
   "cell_type": "code",
   "execution_count": 1,
   "id": "8e4eb53a",
   "metadata": {},
   "outputs": [],
   "source": [
    "# Try the caret operator\n"
   ]
  },
  {
   "cell_type": "code",
   "execution_count": 2,
   "id": "9ea80765",
   "metadata": {},
   "outputs": [],
   "source": [
    "# Now the correct operator\n"
   ]
  },
  {
   "cell_type": "markdown",
   "id": "4790ebe0",
   "metadata": {},
   "source": [
    "*Check if April and May precipitation are equal*"
   ]
  },
  {
   "cell_type": "code",
   "execution_count": 3,
   "id": "417f6c8b",
   "metadata": {},
   "outputs": [],
   "source": [
    "# We already know what the equal sign does..."
   ]
  },
  {
   "cell_type": "code",
   "execution_count": null,
   "id": "6aa44d8d",
   "metadata": {},
   "outputs": [],
   "source": []
  },
  {
   "cell_type": "code",
   "execution_count": 4,
   "id": "05faccac",
   "metadata": {},
   "outputs": [],
   "source": [
    "# The correct operator:"
   ]
  },
  {
   "cell_type": "code",
   "execution_count": null,
   "id": "7965e31e",
   "metadata": {},
   "outputs": [],
   "source": []
  },
  {
   "cell_type": "markdown",
   "id": "71e59ed0",
   "metadata": {},
   "source": [
    "#### Underneath the hood - Equality"
   ]
  },
  {
   "cell_type": "markdown",
   "id": "e79e7140",
   "metadata": {},
   "source": [
    "*Define two variables with values 2.0 and 2. Test if they are equal*"
   ]
  },
  {
   "cell_type": "code",
   "execution_count": null,
   "id": "a6f4aa1d",
   "metadata": {},
   "outputs": [],
   "source": []
  },
  {
   "cell_type": "markdown",
   "id": "93512216",
   "metadata": {},
   "source": [
    "*Check if they are the same type*"
   ]
  },
  {
   "cell_type": "code",
   "execution_count": null,
   "id": "e0a709e9",
   "metadata": {},
   "outputs": [],
   "source": []
  },
  {
   "cell_type": "markdown",
   "id": "5717f6f5",
   "metadata": {},
   "source": [
    "*Now test if they are the same*"
   ]
  },
  {
   "cell_type": "code",
   "execution_count": null,
   "id": "bdfe4fa8",
   "metadata": {},
   "outputs": [],
   "source": []
  },
  {
   "cell_type": "markdown",
   "id": "a2ba3fe1",
   "metadata": {},
   "source": [
    "*Finally, convert the float to an integer and test if they are the same*"
   ]
  },
  {
   "cell_type": "code",
   "execution_count": null,
   "id": "2a551646",
   "metadata": {},
   "outputs": [],
   "source": []
  },
  {
   "cell_type": "markdown",
   "id": "8a1aed25",
   "metadata": {},
   "source": [
    "## Lists\n",
    "*Create a list of the following (invented) monthly maximum Fahrenheit temperature values:*\n",
    "  1. 3.4\n",
    "  2. 10.5\n",
    "  3. 20.1\n",
    "  4. 45.3\n",
    "  5. 57.8\n",
    "  6. 75.8\n",
    "  7. 85.3\n",
    "  8. 90.2\n",
    "  9. 73.2\n",
    "  10. 52.9\n",
    "  11. 35.2\n",
    "  12. 25.1"
   ]
  },
  {
   "cell_type": "code",
<<<<<<< HEAD
   "execution_count": 59,
   "id": "6d2f40e1",
   "metadata": {},
   "outputs": [],
   "source": [
    "monthly_max_temp_lst = [\n",
    "    3.4, 10.5, 20.1, 45.3, 57.8, 75.8, \n",
    "    85.3, 90.2, 73.2, 52.9, 35.2, 25.1\n",
    "]"
=======
   "execution_count": 5,
   "id": "6d2f40e1",
   "metadata": {},
   "outputs": [
    {
     "data": {
      "text/plain": [
       "([3.4, 10.5, 20.1, 45.3, 57.8, 75.8, 85.3, 90.2, 73.2, 52.9, 35.2, 25.1], list)"
      ]
     },
     "execution_count": 5,
     "metadata": {},
     "output_type": "execute_result"
    }
   ],
   "source": [
    "monthly_max_temp_lst = [\n",
    "    3.4,  10.5, 20.1, 45.3, 57.8, 75.8, \n",
    "    85.3, 90.2, 73.2, 52.9, 35.2, 25.1]\n",
    "monthly_max_temp_lst, type(monthly_max_temp_lst)"
>>>>>>> 335aee93c87811df231c0bd014e52030a2fbd4d5
   ]
  },
  {
   "cell_type": "markdown",
   "id": "7f4dcd07",
   "metadata": {},
   "source": [
    "What about this method of storing temperatures might be considered inconvenient or error-prone?"
   ]
  },
  {
   "cell_type": "markdown",
   "id": "9e7d7f84",
   "metadata": {},
   "source": [
    "### Slicing and Indexing lists\n",
    "Python indices start at zero!"
   ]
  },
  {
   "cell_type": "markdown",
   "id": "75a4851e",
   "metadata": {},
   "source": [
    "*Pull out the March temperature, 20.1 deg F, from the list*"
   ]
  },
  {
   "cell_type": "code",
   "execution_count": 6,
   "id": "b031de0a",
   "metadata": {},
   "outputs": [
    {
     "data": {
      "text/plain": [
       "20.1"
      ]
     },
     "execution_count": 6,
     "metadata": {},
     "output_type": "execute_result"
    }
   ],
   "source": [
    "monthly_max_temp_lst[2]"
   ]
  },
  {
   "cell_type": "markdown",
   "id": "22386626",
   "metadata": {},
   "source": [
    "*Pull out the last element of the `monthly_temp_f` list*"
   ]
  },
  {
   "cell_type": "code",
   "execution_count": 7,
   "id": "77b80657",
   "metadata": {},
   "outputs": [
    {
     "data": {
      "text/plain": [
       "25.1"
      ]
     },
     "execution_count": 7,
     "metadata": {},
     "output_type": "execute_result"
    }
   ],
   "source": [
    "monthly_max_temp_lst[11]"
   ]
  },
  {
   "cell_type": "markdown",
   "id": "c71e82ab",
   "metadata": {},
   "source": [
    "*Pull out the second-to-last element of the list. Use the Python shortcut for getting elements counting from the end!*"
   ]
  },
  {
   "cell_type": "code",
   "execution_count": 8,
   "id": "65066399",
   "metadata": {},
   "outputs": [
    {
     "data": {
      "text/plain": [
       "35.2"
      ]
     },
     "execution_count": 8,
     "metadata": {},
     "output_type": "execute_result"
    }
   ],
   "source": [
    "monthly_max_temp_lst[-2]"
   ]
  },
  {
   "cell_type": "markdown",
   "id": "4be5d820",
   "metadata": {},
   "source": [
    "*Get a list of the temperatures for the summer months (March, April, May)*"
   ]
  },
  {
   "cell_type": "code",
   "execution_count": 9,
   "id": "0c32585a",
   "metadata": {},
   "outputs": [
    {
     "data": {
      "text/plain": [
       "[20.1, 45.3, 57.8]"
      ]
     },
     "execution_count": 9,
     "metadata": {},
     "output_type": "execute_result"
    }
   ],
   "source": [
    "monthly_max_temp_lst[2:5]"
   ]
  },
  {
   "cell_type": "markdown",
   "id": "41cba5fe",
   "metadata": {},
   "source": [
    "### Changing and combining lists"
   ]
  },
  {
   "cell_type": "markdown",
   "id": "0a2ef343",
   "metadata": {},
   "source": [
    "*Make a list of month names for each season (we'll define seasons as DJF, MAM, JJA, and SON)*"
   ]
  },
  {
   "cell_type": "code",
<<<<<<< HEAD
   "execution_count": 38,
   "id": "0f3e5f51",
   "metadata": {},
   "outputs": [],
   "source": [
    "DJF = ['December', 'January', 'February']\n",
    "MAM =  ['March', 'April', 'May']\n",
    "JJA =  ['June', 'July', 'August']\n",
    "SON = ['September', 'October', 'November']"
=======
   "execution_count": 10,
   "id": "0f3e5f51",
   "metadata": {},
   "outputs": [
    {
     "data": {
      "text/plain": [
       "(['December', 'January', 'February'],\n",
       " ['March', 'April', 'May'],\n",
       " ['June', 'July', 'August'],\n",
       " ['September', 'October', 'November'])"
      ]
     },
     "execution_count": 10,
     "metadata": {},
     "output_type": "execute_result"
    }
   ],
   "source": [
    "winter_month_names = ['December', 'January', 'February']\n",
    "spring_month_names = ['March', 'April', 'May']\n",
    "summer_month_names = ['June', 'July', 'August']\n",
    "fall_month_names = ['September', 'October', 'November']\n",
    "winter_month_names, spring_month_names, summer_month_names, fall_month_names"
>>>>>>> 335aee93c87811df231c0bd014e52030a2fbd4d5
   ]
  },
  {
   "cell_type": "markdown",
   "id": "118abe4f",
   "metadata": {},
   "source": [
    "*Combine the lists to make a single list of all months in the year*"
   ]
  },
  {
   "cell_type": "code",
<<<<<<< HEAD
   "execution_count": 39,
=======
   "execution_count": 13,
>>>>>>> 335aee93c87811df231c0bd014e52030a2fbd4d5
   "id": "a5eef66f",
   "metadata": {},
   "outputs": [
    {
     "data": {
      "text/plain": [
       "['December',\n",
       " 'January',\n",
       " 'February',\n",
       " 'March',\n",
       " 'April',\n",
       " 'May',\n",
       " 'June',\n",
       " 'July',\n",
       " 'August',\n",
       " 'September',\n",
       " 'October',\n",
       " 'November']"
      ]
     },
<<<<<<< HEAD
     "execution_count": 39,
=======
     "execution_count": 13,
>>>>>>> 335aee93c87811df231c0bd014e52030a2fbd4d5
     "metadata": {},
     "output_type": "execute_result"
    }
   ],
   "source": [
<<<<<<< HEAD
    "months = DJF + MAM + JJA + SON\n",
    "months"
=======
    "month_names = (\n",
    "    winter_month_names \n",
    "    + spring_month_names \n",
    "    + summer_month_names \n",
    "    + fall_month_names)\n",
    "month_names"
>>>>>>> 335aee93c87811df231c0bd014e52030a2fbd4d5
   ]
  },
  {
   "cell_type": "markdown",
   "id": "0118393b",
   "metadata": {},
   "source": [
    "*We'd like the list to start with January. Move December to the end*"
   ]
  },
  {
   "cell_type": "code",
<<<<<<< HEAD
   "execution_count": 40,
=======
   "execution_count": 15,
>>>>>>> 335aee93c87811df231c0bd014e52030a2fbd4d5
   "id": "28083a51",
   "metadata": {},
   "outputs": [
    {
     "data": {
      "text/plain": [
       "['February',\n",
       " 'March',\n",
       " 'April',\n",
       " 'May',\n",
       " 'June',\n",
       " 'July',\n",
       " 'August',\n",
       " 'September',\n",
       " 'October',\n",
<<<<<<< HEAD
       " 'November']"
      ]
     },
     "execution_count": 40,
=======
       " 'November',\n",
       " 'December',\n",
       " 'January']"
      ]
     },
     "execution_count": 15,
>>>>>>> 335aee93c87811df231c0bd014e52030a2fbd4d5
     "metadata": {},
     "output_type": "execute_result"
    }
   ],
<<<<<<< HEAD
=======
   "source": [
    "month_names = month_names[1:] + [month_names[0]]\n",
    "month_names"
   ]
  },
  {
   "cell_type": "markdown",
   "id": "8b6b21c6",
   "metadata": {},
>>>>>>> 335aee93c87811df231c0bd014e52030a2fbd4d5
   "source": [
    "months = months[1:]\n",
    "months"
   ]
  },
  {
   "cell_type": "code",
<<<<<<< HEAD
   "execution_count": 41,
   "id": "c79bf06c",
=======
   "execution_count": 39,
   "id": "e1c32bbc",
>>>>>>> 335aee93c87811df231c0bd014e52030a2fbd4d5
   "metadata": {},
   "outputs": [
    {
     "data": {
      "text/plain": [
       "['January',\n",
       " 'February',\n",
       " 'March',\n",
       " 'April',\n",
       " 'May',\n",
       " 'June',\n",
       " 'July',\n",
       " 'August',\n",
       " 'September',\n",
       " 'October',\n",
       " 'November',\n",
       " 'December']"
      ]
     },
<<<<<<< HEAD
     "execution_count": 41,
=======
     "execution_count": 39,
>>>>>>> 335aee93c87811df231c0bd014e52030a2fbd4d5
     "metadata": {},
     "output_type": "execute_result"
    }
   ],
   "source": [
<<<<<<< HEAD
    "months.append('December')\n",
    "months"
   ]
  },
  {
   "cell_type": "markdown",
   "id": "8b6b21c6",
   "metadata": {},
   "source": [
    "What happens if you run the cell above multiple times?"
   ]
  },
  {
   "cell_type": "markdown",
   "id": "4efd8a70",
   "metadata": {},
   "source": [
    "*Modify the code above so that it only runs if the list does not already start with January*"
   ]
  },
  {
   "cell_type": "code",
   "execution_count": 28,
   "id": "e1c32bbc",
   "metadata": {},
   "outputs": [
    {
     "name": "stdout",
     "output_type": "stream",
     "text": [
      "None\n"
     ]
    }
   ],
   "source": []
=======
    "if not month_names[0] == 'January':\n",
    "    month_names = month_names[1:] + [month_names[0]]\n",
    "    \n",
    "month_names"
   ]
>>>>>>> 335aee93c87811df231c0bd014e52030a2fbd4d5
  },
  {
   "cell_type": "markdown",
   "id": "9471a0dc",
   "metadata": {},
   "source": [
    "*Define a variable `month_num` (4). Use it with your list and the `.format()` method of strings  to print out the phrase \"April is month 4\". Try other months to make sure it works.*"
   ]
  },
  {
   "cell_type": "code",
<<<<<<< HEAD
   "execution_count": 7,
=======
   "execution_count": 38,
>>>>>>> 335aee93c87811df231c0bd014e52030a2fbd4d5
   "id": "a1130e24",
   "metadata": {},
   "outputs": [
    {
     "data": {
      "text/plain": [
       "'April is month 4'"
      ]
     },
<<<<<<< HEAD
     "execution_count": 7,
=======
     "execution_count": 38,
>>>>>>> 335aee93c87811df231c0bd014e52030a2fbd4d5
     "metadata": {},
     "output_type": "execute_result"
    }
   ],
   "source": [
<<<<<<< HEAD
    "month_num = 4 \n",
=======
    "month_num = 4\n",
>>>>>>> 335aee93c87811df231c0bd014e52030a2fbd4d5
    "\"April is month {}\".format(month_num)"
   ]
  },
  {
   "cell_type": "markdown",
   "id": "7c0d802a",
   "metadata": {},
   "source": [
    "*Print out the following phrase about each month: \"January begins with Jan\"*"
   ]
  },
  {
   "cell_type": "code",
   "execution_count": 48,
   "id": "c68602c3",
   "metadata": {},
   "outputs": [
    {
     "name": "stdout",
     "output_type": "stream",
     "text": [
      "January begins with Jan\n",
      "February begins with Feb\n",
      "March begins with Mar\n",
      "April begins with Apr\n",
      "May begins with May\n",
      "June begins with Jun\n",
      "July begins with Jul\n",
      "August begins with Aug\n",
      "September begins with Sep\n",
      "October begins with Oct\n",
      "November begins with Nov\n",
      "December begins with Dec\n",
      "December\n"
     ]
    }
   ],
   "source": [
<<<<<<< HEAD
    "for month in months:\n",
=======
    "for month in month_names:\n",
>>>>>>> 335aee93c87811df231c0bd014e52030a2fbd4d5
    "    print('{} begins with {}'.format(month, month[:3]))"
   ]
  },
  {
   "cell_type": "markdown",
   "id": "f11a2f3d",
   "metadata": {},
   "source": [
    "*Use the `enumerate()` function to print the following phrase about each month: \"January is month 1\"*"
   ]
  },
  {
   "cell_type": "code",
<<<<<<< HEAD
   "execution_count": 55,
=======
   "execution_count": 54,
>>>>>>> 335aee93c87811df231c0bd014e52030a2fbd4d5
   "id": "da0edd2e",
   "metadata": {},
   "outputs": [
    {
     "name": "stdout",
     "output_type": "stream",
     "text": [
      "January is month 1\n",
      "February is month 2\n",
      "March is month 3\n",
      "April is month 4\n",
      "May is month 5\n",
      "June is month 6\n",
      "July is month 7\n",
      "August is month 8\n",
      "September is month 9\n",
      "October is month 10\n",
      "November is month 11\n",
      "December is month 12\n"
     ]
    }
   ],
   "source": [
<<<<<<< HEAD
    "for i, month in enumerate(months):\n",
    "    print('{} is month {}'.format(month, i+1))"
=======
    "for i, month_name in enumerate(month_names):\n",
    "    print(\"{} is month {}\".format(month_name, i+1))"
>>>>>>> 335aee93c87811df231c0bd014e52030a2fbd4d5
   ]
  },
  {
   "cell_type": "markdown",
   "id": "fbcf649a",
   "metadata": {},
   "source": [
    "*Using the `zip()` function, print out the following phrase for each month: \"In January the maximum temperature was 3.4 degrees F\".*"
   ]
  },
  {
   "cell_type": "code",
<<<<<<< HEAD
   "execution_count": 65,
=======
   "execution_count": 56,
>>>>>>> 335aee93c87811df231c0bd014e52030a2fbd4d5
   "id": "0c479a89",
   "metadata": {},
   "outputs": [
    {
     "name": "stdout",
     "output_type": "stream",
     "text": [
      "In January the maximum temperature was 3.4 degrees F\n",
      "In February the maximum temperature was 10.5 degrees F\n",
      "In March the maximum temperature was 20.1 degrees F\n",
      "In April the maximum temperature was 45.3 degrees F\n",
      "In May the maximum temperature was 57.8 degrees F\n",
      "In June the maximum temperature was 75.8 degrees F\n",
      "In July the maximum temperature was 85.3 degrees F\n",
      "In August the maximum temperature was 90.2 degrees F\n",
      "In September the maximum temperature was 73.2 degrees F\n",
      "In October the maximum temperature was 52.9 degrees F\n",
      "In November the maximum temperature was 35.2 degrees F\n",
      "In December the maximum temperature was 25.1 degrees F\n"
     ]
    }
   ],
   "source": [
<<<<<<< HEAD
    "for month, temp_f in zip(months, monthly_max_temp_lst):\n",
    "    print((\n",
    "        'In {} the maximum temperature was {} degrees F'\n",
    "          .format(month, temp_f)\n",
    "    ))"
=======
    "for month_name, temperature_f in zip(month_names, monthly_max_temp_lst):\n",
    "    print((\n",
    "        \"In {} the maximum temperature was {} degrees F\"\n",
    "        .format(month_name, temperature_f)))"
>>>>>>> 335aee93c87811df231c0bd014e52030a2fbd4d5
   ]
  },
  {
   "cell_type": "markdown",
   "id": "9a15e0a6",
   "metadata": {},
   "source": [
    "## Dictionaries\n",
    "Sometimes we'd like to refer to objects by name in Python, instead of by their order alone. Dictionaries let us do that.\n",
    "\n",
    "A note: dictionaries usually don't have an order. However, Python was recently updated to make dictionaries more efficient - and it so happens that this method also ensures that dictionary keys will always remain in the order they were added. There is also an object called an `OrderedDict` from the `collections` library that will allow you to control the order of a dictionary like you do a list."
   ]
  },
  {
   "cell_type": "markdown",
   "id": "4224c862",
   "metadata": {},
   "source": [
    "*Create a dictionary where the keys are the month names and the values are the Fahrenheit maximum monthly temperatures.*"
   ]
  },
  {
   "cell_type": "code",
<<<<<<< HEAD
   "execution_count": 74,
=======
   "execution_count": 64,
>>>>>>> 335aee93c87811df231c0bd014e52030a2fbd4d5
   "id": "521257a1",
   "metadata": {},
   "outputs": [
    {
     "data": {
      "text/plain": [
       "{'January': 3.4,\n",
       " 'February': 10.5,\n",
       " 'March': 20.1,\n",
       " 'April': 45.3,\n",
       " 'May': 57.8,\n",
       " 'June': 75.8,\n",
       " 'July': 85.3,\n",
       " 'August': 90.2,\n",
       " 'September': 73.2,\n",
       " 'October': 52.9,\n",
       " 'November': 35.2,\n",
       " 'December': 25.1}"
      ]
     },
<<<<<<< HEAD
     "execution_count": 74,
=======
     "execution_count": 64,
>>>>>>> 335aee93c87811df231c0bd014e52030a2fbd4d5
     "metadata": {},
     "output_type": "execute_result"
    }
   ],
   "source": [
    "max_temp_dict = {}\n",
<<<<<<< HEAD
    "\n",
    "for month, temp_f in zip(months, monthly_max_temp_lst):\n",
    "        max_temp_dict[month] = temp_f\n",
    "        \n",
=======
    "for month_name, temperature_f in zip(month_names, monthly_max_temp_lst):\n",
    "    max_temp_dict[month_name] = temperature_f\n",
>>>>>>> 335aee93c87811df231c0bd014e52030a2fbd4d5
    "max_temp_dict"
   ]
  },
  {
   "cell_type": "markdown",
   "id": "c8817dc5",
   "metadata": {},
   "source": [
    "*What was the maximum temperature in March?*"
   ]
  },
  {
   "cell_type": "code",
<<<<<<< HEAD
   "execution_count": 75,
=======
   "execution_count": 60,
>>>>>>> 335aee93c87811df231c0bd014e52030a2fbd4d5
   "id": "97ceb172",
   "metadata": {},
   "outputs": [
    {
     "data": {
      "text/plain": [
       "20.1"
      ]
     },
<<<<<<< HEAD
     "execution_count": 75,
=======
     "execution_count": 60,
>>>>>>> 335aee93c87811df231c0bd014e52030a2fbd4d5
     "metadata": {},
     "output_type": "execute_result"
    }
   ],
   "source": [
    "max_temp_dict['March']"
   ]
  },
  {
   "cell_type": "markdown",
   "id": "7cd41c3a",
   "metadata": {},
   "source": [
    "*Suppose we noticed an error in the October temperature - it should actually be 52.0. Correct the error*"
   ]
  },
  {
   "cell_type": "code",
<<<<<<< HEAD
   "execution_count": 76,
=======
   "execution_count": 65,
>>>>>>> 335aee93c87811df231c0bd014e52030a2fbd4d5
   "id": "b0113be0",
   "metadata": {},
   "outputs": [
    {
     "data": {
      "text/plain": [
       "{'January': 3.4,\n",
       " 'February': 10.5,\n",
       " 'March': 20.1,\n",
       " 'April': 45.3,\n",
       " 'May': 57.8,\n",
       " 'June': 75.8,\n",
       " 'July': 85.3,\n",
       " 'August': 90.2,\n",
       " 'September': 73.2,\n",
       " 'October': 52.0,\n",
       " 'November': 35.2,\n",
       " 'December': 25.1}"
      ]
     },
<<<<<<< HEAD
     "execution_count": 76,
=======
     "execution_count": 65,
>>>>>>> 335aee93c87811df231c0bd014e52030a2fbd4d5
     "metadata": {},
     "output_type": "execute_result"
    }
   ],
   "source": [
    "max_temp_dict['October'] = 52.0\n",
    "max_temp_dict"
   ]
  },
  {
   "cell_type": "markdown",
   "id": "f4f3aae9",
   "metadata": {},
   "source": [
    "*Try removing the value for June and adding it back again. What happens to the order?*"
   ]
  },
  {
   "cell_type": "code",
<<<<<<< HEAD
   "execution_count": 77,
=======
   "execution_count": 66,
>>>>>>> 335aee93c87811df231c0bd014e52030a2fbd4d5
   "id": "e23c3a8d",
   "metadata": {},
   "outputs": [
    {
     "data": {
      "text/plain": [
       "{'January': 3.4,\n",
       " 'February': 10.5,\n",
       " 'March': 20.1,\n",
       " 'April': 45.3,\n",
       " 'May': 57.8,\n",
       " 'July': 85.3,\n",
       " 'August': 90.2,\n",
       " 'September': 73.2,\n",
       " 'October': 52.0,\n",
       " 'November': 35.2,\n",
       " 'December': 25.1,\n",
       " 'June': 75.8}"
      ]
     },
<<<<<<< HEAD
     "execution_count": 77,
=======
     "execution_count": 66,
>>>>>>> 335aee93c87811df231c0bd014e52030a2fbd4d5
     "metadata": {},
     "output_type": "execute_result"
    }
   ],
   "source": [
    "del max_temp_dict['June']\n",
    "max_temp_dict['June'] = 75.8\n",
    "max_temp_dict"
   ]
  },
  {
   "cell_type": "markdown",
   "id": "9b6a696c",
   "metadata": {},
   "source": [
    "*That was a lot of typing to insert the dictionary! More typing means more errors. Try to create the dictionary one month at a time using a for loop instead.*"
   ]
  },
  {
   "cell_type": "code",
   "execution_count": null,
   "id": "47ac00c2",
   "metadata": {},
   "outputs": [],
   "source": []
  },
  {
   "cell_type": "code",
   "execution_count": null,
   "id": "8c51b920",
   "metadata": {},
   "outputs": [],
   "source": []
  },
  {
   "cell_type": "markdown",
   "id": "836e5cd2",
   "metadata": {},
   "source": [
    "*What was the maximum temperature in month 8?*"
   ]
  },
  {
   "cell_type": "code",
<<<<<<< HEAD
   "execution_count": 79,
=======
   "execution_count": 67,
>>>>>>> 335aee93c87811df231c0bd014e52030a2fbd4d5
   "id": "04924dae",
   "metadata": {},
   "outputs": [
    {
     "data": {
      "text/plain": [
       "90.2"
      ]
     },
<<<<<<< HEAD
     "execution_count": 79,
=======
     "execution_count": 67,
>>>>>>> 335aee93c87811df231c0bd014e52030a2fbd4d5
     "metadata": {},
     "output_type": "execute_result"
    }
   ],
   "source": [
<<<<<<< HEAD
    "max_temp_dict[months[7]]"
=======
    "max_temp_dict[month_names[7]]"
>>>>>>> 335aee93c87811df231c0bd014e52030a2fbd4d5
   ]
  },
  {
   "cell_type": "markdown",
   "id": "057443ef",
   "metadata": {},
   "source": [
    "*Print out \"January begins with Jan\" for each month using the dictionary*"
   ]
  },
  {
   "cell_type": "code",
<<<<<<< HEAD
   "execution_count": 82,
=======
   "execution_count": 72,
>>>>>>> 335aee93c87811df231c0bd014e52030a2fbd4d5
   "id": "c2cf8bbd",
   "metadata": {},
   "outputs": [
    {
     "name": "stdout",
     "output_type": "stream",
     "text": [
      "January begins with Jan\n",
      "February begins with Feb\n",
      "March begins with Mar\n",
      "April begins with Apr\n",
      "May begins with May\n",
      "July begins with Jul\n",
      "August begins with Aug\n",
      "September begins with Sep\n",
      "October begins with Oct\n",
      "November begins with Nov\n",
      "December begins with Dec\n",
      "June begins with Jun\n"
     ]
    }
   ],
   "source": [
<<<<<<< HEAD
    "for month in max_temp_dict:\n",
    "    print('{} begins with {}'.format(month,month[:3]))"
=======
    "for month_name in max_temp_dict:\n",
    "    print(\"{} begins with {}\".format(month_name, month_name[:3]))"
>>>>>>> 335aee93c87811df231c0bd014e52030a2fbd4d5
   ]
  },
  {
   "cell_type": "markdown",
   "id": "97cffb1c",
   "metadata": {},
   "source": [
    "*Print out the following phrase for each month: \"In January the maximum temperature was 3.4 degrees F\"*"
   ]
  },
  {
   "cell_type": "code",
<<<<<<< HEAD
   "execution_count": 83,
=======
   "execution_count": 73,
>>>>>>> 335aee93c87811df231c0bd014e52030a2fbd4d5
   "id": "b81f78d0",
   "metadata": {},
   "outputs": [
    {
     "name": "stdout",
     "output_type": "stream",
     "text": [
<<<<<<< HEAD
      "In January the maximum temperature was 3.4 degreed F\n",
      "In February the maximum temperature was 10.5 degreed F\n",
      "In March the maximum temperature was 20.1 degreed F\n",
      "In April the maximum temperature was 45.3 degreed F\n",
      "In May the maximum temperature was 57.8 degreed F\n",
      "In July the maximum temperature was 85.3 degreed F\n",
      "In August the maximum temperature was 90.2 degreed F\n",
      "In September the maximum temperature was 73.2 degreed F\n",
      "In October the maximum temperature was 52.0 degreed F\n",
      "In November the maximum temperature was 35.2 degreed F\n",
      "In December the maximum temperature was 25.1 degreed F\n",
      "In June the maximum temperature was 75.8 degreed F\n"
=======
      "In January the maximum temperature was 3.4 degrees F\n",
      "In February the maximum temperature was 10.5 degrees F\n",
      "In March the maximum temperature was 20.1 degrees F\n",
      "In April the maximum temperature was 45.3 degrees F\n",
      "In May the maximum temperature was 57.8 degrees F\n",
      "In July the maximum temperature was 85.3 degrees F\n",
      "In August the maximum temperature was 90.2 degrees F\n",
      "In September the maximum temperature was 73.2 degrees F\n",
      "In October the maximum temperature was 52.0 degrees F\n",
      "In November the maximum temperature was 35.2 degrees F\n",
      "In December the maximum temperature was 25.1 degrees F\n",
      "In June the maximum temperature was 75.8 degrees F\n"
>>>>>>> 335aee93c87811df231c0bd014e52030a2fbd4d5
     ]
    }
   ],
   "source": [
<<<<<<< HEAD
    "for month, temp_f in max_temp_dict.items():\n",
    "    print((\n",
    "    'In {} the maximum temperature was {} degreed F'\n",
    "    .format(month, temp_f)\n",
    "    ))"
=======
    "for month_name, temperature_f in max_temp_dict.items():\n",
    "    print((\n",
    "        \"In {} the maximum temperature was {} degrees F\"\n",
    "        .format(month_name, temperature_f)))"
>>>>>>> 335aee93c87811df231c0bd014e52030a2fbd4d5
   ]
  },
  {
   "cell_type": "markdown",
   "id": "b499483c",
   "metadata": {},
   "source": [
    "*Print out the following phrase for each month using the `.items()` method of dictionaries: \"In January the maximum temperature was 3.4 degrees F\"*"
   ]
  },
  {
   "cell_type": "code",
   "execution_count": null,
   "id": "7f2c4883",
   "metadata": {},
   "outputs": [],
   "source": []
  },
  {
   "cell_type": "markdown",
   "id": "71dbd196",
   "metadata": {},
   "source": [
    "## Pandas DataFrames\n",
    "Right now, our temperature list doesn't have any labels, which makes it hard to work with. The `pandas` library offers a solution for this problem. DataFrames are a lot like databases or spreadsheets. If you use dataframes or tibbles in R, there are a lot of similarities there as well (although beware that Python does not support the fancy quoting/quosure syntax that R does)."
   ]
  },
  {
   "cell_type": "markdown",
   "id": "b2b49817",
   "metadata": {},
   "source": [
    "*Make a DataFrame with your two lists, `months` and `monthly_temp_f` as columns*"
   ]
  },
  {
   "cell_type": "code",
<<<<<<< HEAD
   "execution_count": 87,
=======
   "execution_count": 84,
>>>>>>> 335aee93c87811df231c0bd014e52030a2fbd4d5
   "id": "e5530ef1",
   "metadata": {},
   "outputs": [
    {
     "data": {
      "text/html": [
       "<div>\n",
       "<style scoped>\n",
       "    .dataframe tbody tr th:only-of-type {\n",
       "        vertical-align: middle;\n",
       "    }\n",
       "\n",
       "    .dataframe tbody tr th {\n",
       "        vertical-align: top;\n",
       "    }\n",
       "\n",
       "    .dataframe thead th {\n",
       "        text-align: right;\n",
       "    }\n",
       "</style>\n",
       "<table border=\"1\" class=\"dataframe\">\n",
       "  <thead>\n",
       "    <tr style=\"text-align: right;\">\n",
       "      <th></th>\n",
       "      <th>month_name</th>\n",
       "      <th>max_temp_f</th>\n",
       "    </tr>\n",
       "  </thead>\n",
       "  <tbody>\n",
       "    <tr>\n",
       "      <th>0</th>\n",
       "      <td>January</td>\n",
       "      <td>3.4</td>\n",
       "    </tr>\n",
       "    <tr>\n",
       "      <th>1</th>\n",
       "      <td>February</td>\n",
       "      <td>10.5</td>\n",
       "    </tr>\n",
       "    <tr>\n",
       "      <th>2</th>\n",
       "      <td>March</td>\n",
       "      <td>20.1</td>\n",
       "    </tr>\n",
       "    <tr>\n",
       "      <th>3</th>\n",
       "      <td>April</td>\n",
       "      <td>45.3</td>\n",
       "    </tr>\n",
       "    <tr>\n",
       "      <th>4</th>\n",
       "      <td>May</td>\n",
       "      <td>57.8</td>\n",
       "    </tr>\n",
       "    <tr>\n",
       "      <th>5</th>\n",
       "      <td>June</td>\n",
       "      <td>75.8</td>\n",
       "    </tr>\n",
       "    <tr>\n",
       "      <th>6</th>\n",
       "      <td>July</td>\n",
       "      <td>85.3</td>\n",
       "    </tr>\n",
       "    <tr>\n",
       "      <th>7</th>\n",
       "      <td>August</td>\n",
       "      <td>90.2</td>\n",
       "    </tr>\n",
       "    <tr>\n",
       "      <th>8</th>\n",
       "      <td>September</td>\n",
       "      <td>73.2</td>\n",
       "    </tr>\n",
       "    <tr>\n",
       "      <th>9</th>\n",
       "      <td>October</td>\n",
       "      <td>52.9</td>\n",
       "    </tr>\n",
       "    <tr>\n",
       "      <th>10</th>\n",
       "      <td>November</td>\n",
       "      <td>35.2</td>\n",
       "    </tr>\n",
       "    <tr>\n",
       "      <th>11</th>\n",
       "      <td>December</td>\n",
       "      <td>25.1</td>\n",
       "    </tr>\n",
       "  </tbody>\n",
       "</table>\n",
       "</div>"
      ],
      "text/plain": [
       "   month_name  max_temp_f\n",
       "0     January         3.4\n",
       "1    February        10.5\n",
       "2       March        20.1\n",
       "3       April        45.3\n",
       "4         May        57.8\n",
       "5        June        75.8\n",
       "6        July        85.3\n",
       "7      August        90.2\n",
       "8   September        73.2\n",
       "9     October        52.9\n",
       "10   November        35.2\n",
       "11   December        25.1"
      ]
     },
<<<<<<< HEAD
     "execution_count": 87,
=======
     "execution_count": 84,
>>>>>>> 335aee93c87811df231c0bd014e52030a2fbd4d5
     "metadata": {},
     "output_type": "execute_result"
    }
   ],
   "source": [
    "import pandas as pd\n",
    "temp_df = pd.DataFrame({\n",
<<<<<<< HEAD
    "    'month_name': months, \n",
=======
    "    'month_name': month_names,\n",
>>>>>>> 335aee93c87811df231c0bd014e52030a2fbd4d5
    "    'max_temp_f': monthly_max_temp_lst\n",
    "})\n",
    "temp_df"
   ]
  },
  {
   "cell_type": "markdown",
   "id": "4e58bc79",
   "metadata": {},
   "source": [
    "*Take a look at the month column*"
   ]
  },
  {
   "cell_type": "code",
<<<<<<< HEAD
   "execution_count": 89,
=======
   "execution_count": 85,
>>>>>>> 335aee93c87811df231c0bd014e52030a2fbd4d5
   "id": "8f2c068a",
   "metadata": {},
   "outputs": [
    {
     "data": {
      "text/html": [
       "<div>\n",
       "<style scoped>\n",
       "    .dataframe tbody tr th:only-of-type {\n",
       "        vertical-align: middle;\n",
       "    }\n",
       "\n",
       "    .dataframe tbody tr th {\n",
       "        vertical-align: top;\n",
       "    }\n",
       "\n",
       "    .dataframe thead th {\n",
       "        text-align: right;\n",
       "    }\n",
       "</style>\n",
       "<table border=\"1\" class=\"dataframe\">\n",
       "  <thead>\n",
       "    <tr style=\"text-align: right;\">\n",
       "      <th></th>\n",
       "      <th>max_temp_f</th>\n",
       "    </tr>\n",
       "    <tr>\n",
       "      <th>month_name</th>\n",
       "      <th></th>\n",
       "    </tr>\n",
       "  </thead>\n",
       "  <tbody>\n",
       "    <tr>\n",
       "      <th>January</th>\n",
       "      <td>3.4</td>\n",
       "    </tr>\n",
       "    <tr>\n",
       "      <th>February</th>\n",
       "      <td>10.5</td>\n",
       "    </tr>\n",
       "    <tr>\n",
       "      <th>March</th>\n",
       "      <td>20.1</td>\n",
       "    </tr>\n",
       "    <tr>\n",
       "      <th>April</th>\n",
       "      <td>45.3</td>\n",
       "    </tr>\n",
       "    <tr>\n",
       "      <th>May</th>\n",
       "      <td>57.8</td>\n",
       "    </tr>\n",
       "    <tr>\n",
       "      <th>June</th>\n",
       "      <td>75.8</td>\n",
       "    </tr>\n",
       "    <tr>\n",
       "      <th>July</th>\n",
       "      <td>85.3</td>\n",
       "    </tr>\n",
       "    <tr>\n",
       "      <th>August</th>\n",
       "      <td>90.2</td>\n",
       "    </tr>\n",
       "    <tr>\n",
       "      <th>September</th>\n",
       "      <td>73.2</td>\n",
       "    </tr>\n",
       "    <tr>\n",
       "      <th>October</th>\n",
       "      <td>52.9</td>\n",
       "    </tr>\n",
       "    <tr>\n",
       "      <th>November</th>\n",
       "      <td>35.2</td>\n",
       "    </tr>\n",
       "    <tr>\n",
       "      <th>December</th>\n",
       "      <td>25.1</td>\n",
       "    </tr>\n",
       "  </tbody>\n",
       "</table>\n",
       "</div>"
      ],
      "text/plain": [
<<<<<<< HEAD
       "            max_temp_f\n",
       "month_name            \n",
       "January            3.4\n",
       "February          10.5\n",
       "March             20.1\n",
       "April             45.3\n",
       "May               57.8\n",
       "June              75.8\n",
       "July              85.3\n",
       "August            90.2\n",
       "September         73.2\n",
       "October           52.9\n",
       "November          35.2\n",
       "December          25.1"
      ]
     },
     "execution_count": 89,
=======
       "0       January\n",
       "1      February\n",
       "2         March\n",
       "3         April\n",
       "4           May\n",
       "5          June\n",
       "6          July\n",
       "7        August\n",
       "8     September\n",
       "9       October\n",
       "10     November\n",
       "11     December\n",
       "Name: month_name, dtype: object"
      ]
     },
     "execution_count": 85,
>>>>>>> 335aee93c87811df231c0bd014e52030a2fbd4d5
     "metadata": {},
     "output_type": "execute_result"
    }
   ],
   "source": [
<<<<<<< HEAD
    "temp_df.set_index('month_name', inplace=True)\n",
    "temp_df"
=======
    "temp_df.month_name"
>>>>>>> 335aee93c87811df231c0bd014e52030a2fbd4d5
   ]
  },
  {
   "cell_type": "markdown",
   "id": "fc89cad0",
   "metadata": {},
   "source": [
    "*Take a look at row 5 - use the `.loc` attribute of DataFrames to access rows*"
   ]
  },
  {
   "cell_type": "code",
   "execution_count": 86,
   "id": "4821703e",
   "metadata": {},
   "outputs": [
    {
     "ename": "KeyError",
     "evalue": "'September'",
     "output_type": "error",
     "traceback": [
      "\u001b[0;31m---------------------------------------------------------------------------\u001b[0m",
      "\u001b[0;31mKeyError\u001b[0m                                  Traceback (most recent call last)",
      "\u001b[0;32m/var/folders/dn/99vk45cd5n56wsnl3hxc1bw40000gp/T/ipykernel_19335/2247971003.py\u001b[0m in \u001b[0;36m<module>\u001b[0;34m\u001b[0m\n\u001b[0;32m----> 1\u001b[0;31m \u001b[0mtemp_df\u001b[0m\u001b[0;34m.\u001b[0m\u001b[0mloc\u001b[0m\u001b[0;34m[\u001b[0m\u001b[0;34m'September'\u001b[0m\u001b[0;34m]\u001b[0m\u001b[0;34m\u001b[0m\u001b[0;34m\u001b[0m\u001b[0m\n\u001b[0m",
      "\u001b[0;32m~/opt/miniconda3/envs/earth-analytics-python/lib/python3.8/site-packages/pandas/core/indexing.py\u001b[0m in \u001b[0;36m__getitem__\u001b[0;34m(self, key)\u001b[0m\n\u001b[1;32m    929\u001b[0m \u001b[0;34m\u001b[0m\u001b[0m\n\u001b[1;32m    930\u001b[0m             \u001b[0mmaybe_callable\u001b[0m \u001b[0;34m=\u001b[0m \u001b[0mcom\u001b[0m\u001b[0;34m.\u001b[0m\u001b[0mapply_if_callable\u001b[0m\u001b[0;34m(\u001b[0m\u001b[0mkey\u001b[0m\u001b[0;34m,\u001b[0m \u001b[0mself\u001b[0m\u001b[0;34m.\u001b[0m\u001b[0mobj\u001b[0m\u001b[0;34m)\u001b[0m\u001b[0;34m\u001b[0m\u001b[0;34m\u001b[0m\u001b[0m\n\u001b[0;32m--> 931\u001b[0;31m             \u001b[0;32mreturn\u001b[0m \u001b[0mself\u001b[0m\u001b[0;34m.\u001b[0m\u001b[0m_getitem_axis\u001b[0m\u001b[0;34m(\u001b[0m\u001b[0mmaybe_callable\u001b[0m\u001b[0;34m,\u001b[0m \u001b[0maxis\u001b[0m\u001b[0;34m=\u001b[0m\u001b[0maxis\u001b[0m\u001b[0;34m)\u001b[0m\u001b[0;34m\u001b[0m\u001b[0;34m\u001b[0m\u001b[0m\n\u001b[0m\u001b[1;32m    932\u001b[0m \u001b[0;34m\u001b[0m\u001b[0m\n\u001b[1;32m    933\u001b[0m     \u001b[0;32mdef\u001b[0m \u001b[0m_is_scalar_access\u001b[0m\u001b[0;34m(\u001b[0m\u001b[0mself\u001b[0m\u001b[0;34m,\u001b[0m \u001b[0mkey\u001b[0m\u001b[0;34m:\u001b[0m \u001b[0mtuple\u001b[0m\u001b[0;34m)\u001b[0m\u001b[0;34m:\u001b[0m\u001b[0;34m\u001b[0m\u001b[0;34m\u001b[0m\u001b[0m\n",
      "\u001b[0;32m~/opt/miniconda3/envs/earth-analytics-python/lib/python3.8/site-packages/pandas/core/indexing.py\u001b[0m in \u001b[0;36m_getitem_axis\u001b[0;34m(self, key, axis)\u001b[0m\n\u001b[1;32m   1162\u001b[0m         \u001b[0;31m# fall thru to straight lookup\u001b[0m\u001b[0;34m\u001b[0m\u001b[0;34m\u001b[0m\u001b[0;34m\u001b[0m\u001b[0m\n\u001b[1;32m   1163\u001b[0m         \u001b[0mself\u001b[0m\u001b[0;34m.\u001b[0m\u001b[0m_validate_key\u001b[0m\u001b[0;34m(\u001b[0m\u001b[0mkey\u001b[0m\u001b[0;34m,\u001b[0m \u001b[0maxis\u001b[0m\u001b[0;34m)\u001b[0m\u001b[0;34m\u001b[0m\u001b[0;34m\u001b[0m\u001b[0m\n\u001b[0;32m-> 1164\u001b[0;31m         \u001b[0;32mreturn\u001b[0m \u001b[0mself\u001b[0m\u001b[0;34m.\u001b[0m\u001b[0m_get_label\u001b[0m\u001b[0;34m(\u001b[0m\u001b[0mkey\u001b[0m\u001b[0;34m,\u001b[0m \u001b[0maxis\u001b[0m\u001b[0;34m=\u001b[0m\u001b[0maxis\u001b[0m\u001b[0;34m)\u001b[0m\u001b[0;34m\u001b[0m\u001b[0;34m\u001b[0m\u001b[0m\n\u001b[0m\u001b[1;32m   1165\u001b[0m \u001b[0;34m\u001b[0m\u001b[0m\n\u001b[1;32m   1166\u001b[0m     \u001b[0;32mdef\u001b[0m \u001b[0m_get_slice_axis\u001b[0m\u001b[0;34m(\u001b[0m\u001b[0mself\u001b[0m\u001b[0;34m,\u001b[0m \u001b[0mslice_obj\u001b[0m\u001b[0;34m:\u001b[0m \u001b[0mslice\u001b[0m\u001b[0;34m,\u001b[0m \u001b[0maxis\u001b[0m\u001b[0;34m:\u001b[0m \u001b[0mint\u001b[0m\u001b[0;34m)\u001b[0m\u001b[0;34m:\u001b[0m\u001b[0;34m\u001b[0m\u001b[0;34m\u001b[0m\u001b[0m\n",
      "\u001b[0;32m~/opt/miniconda3/envs/earth-analytics-python/lib/python3.8/site-packages/pandas/core/indexing.py\u001b[0m in \u001b[0;36m_get_label\u001b[0;34m(self, label, axis)\u001b[0m\n\u001b[1;32m   1111\u001b[0m     \u001b[0;32mdef\u001b[0m \u001b[0m_get_label\u001b[0m\u001b[0;34m(\u001b[0m\u001b[0mself\u001b[0m\u001b[0;34m,\u001b[0m \u001b[0mlabel\u001b[0m\u001b[0;34m,\u001b[0m \u001b[0maxis\u001b[0m\u001b[0;34m:\u001b[0m \u001b[0mint\u001b[0m\u001b[0;34m)\u001b[0m\u001b[0;34m:\u001b[0m\u001b[0;34m\u001b[0m\u001b[0;34m\u001b[0m\u001b[0m\n\u001b[1;32m   1112\u001b[0m         \u001b[0;31m# GH#5667 this will fail if the label is not present in the axis.\u001b[0m\u001b[0;34m\u001b[0m\u001b[0;34m\u001b[0m\u001b[0;34m\u001b[0m\u001b[0m\n\u001b[0;32m-> 1113\u001b[0;31m         \u001b[0;32mreturn\u001b[0m \u001b[0mself\u001b[0m\u001b[0;34m.\u001b[0m\u001b[0mobj\u001b[0m\u001b[0;34m.\u001b[0m\u001b[0mxs\u001b[0m\u001b[0;34m(\u001b[0m\u001b[0mlabel\u001b[0m\u001b[0;34m,\u001b[0m \u001b[0maxis\u001b[0m\u001b[0;34m=\u001b[0m\u001b[0maxis\u001b[0m\u001b[0;34m)\u001b[0m\u001b[0;34m\u001b[0m\u001b[0;34m\u001b[0m\u001b[0m\n\u001b[0m\u001b[1;32m   1114\u001b[0m \u001b[0;34m\u001b[0m\u001b[0m\n\u001b[1;32m   1115\u001b[0m     \u001b[0;32mdef\u001b[0m \u001b[0m_handle_lowerdim_multi_index_axis0\u001b[0m\u001b[0;34m(\u001b[0m\u001b[0mself\u001b[0m\u001b[0;34m,\u001b[0m \u001b[0mtup\u001b[0m\u001b[0;34m:\u001b[0m \u001b[0mtuple\u001b[0m\u001b[0;34m)\u001b[0m\u001b[0;34m:\u001b[0m\u001b[0;34m\u001b[0m\u001b[0;34m\u001b[0m\u001b[0m\n",
      "\u001b[0;32m~/opt/miniconda3/envs/earth-analytics-python/lib/python3.8/site-packages/pandas/core/generic.py\u001b[0m in \u001b[0;36mxs\u001b[0;34m(self, key, axis, level, drop_level)\u001b[0m\n\u001b[1;32m   3774\u001b[0m                 \u001b[0;32mraise\u001b[0m \u001b[0mTypeError\u001b[0m\u001b[0;34m(\u001b[0m\u001b[0;34mf\"Expected label or tuple of labels, got {key}\"\u001b[0m\u001b[0;34m)\u001b[0m \u001b[0;32mfrom\u001b[0m \u001b[0me\u001b[0m\u001b[0;34m\u001b[0m\u001b[0;34m\u001b[0m\u001b[0m\n\u001b[1;32m   3775\u001b[0m         \u001b[0;32melse\u001b[0m\u001b[0;34m:\u001b[0m\u001b[0;34m\u001b[0m\u001b[0;34m\u001b[0m\u001b[0m\n\u001b[0;32m-> 3776\u001b[0;31m             \u001b[0mloc\u001b[0m \u001b[0;34m=\u001b[0m \u001b[0mindex\u001b[0m\u001b[0;34m.\u001b[0m\u001b[0mget_loc\u001b[0m\u001b[0;34m(\u001b[0m\u001b[0mkey\u001b[0m\u001b[0;34m)\u001b[0m\u001b[0;34m\u001b[0m\u001b[0;34m\u001b[0m\u001b[0m\n\u001b[0m\u001b[1;32m   3777\u001b[0m \u001b[0;34m\u001b[0m\u001b[0m\n\u001b[1;32m   3778\u001b[0m             \u001b[0;32mif\u001b[0m \u001b[0misinstance\u001b[0m\u001b[0;34m(\u001b[0m\u001b[0mloc\u001b[0m\u001b[0;34m,\u001b[0m \u001b[0mnp\u001b[0m\u001b[0;34m.\u001b[0m\u001b[0mndarray\u001b[0m\u001b[0;34m)\u001b[0m\u001b[0;34m:\u001b[0m\u001b[0;34m\u001b[0m\u001b[0;34m\u001b[0m\u001b[0m\n",
      "\u001b[0;32m~/opt/miniconda3/envs/earth-analytics-python/lib/python3.8/site-packages/pandas/core/indexes/range.py\u001b[0m in \u001b[0;36mget_loc\u001b[0;34m(self, key, method, tolerance)\u001b[0m\n\u001b[1;32m    386\u001b[0m                 \u001b[0;32mexcept\u001b[0m \u001b[0mValueError\u001b[0m \u001b[0;32mas\u001b[0m \u001b[0merr\u001b[0m\u001b[0;34m:\u001b[0m\u001b[0;34m\u001b[0m\u001b[0;34m\u001b[0m\u001b[0m\n\u001b[1;32m    387\u001b[0m                     \u001b[0;32mraise\u001b[0m \u001b[0mKeyError\u001b[0m\u001b[0;34m(\u001b[0m\u001b[0mkey\u001b[0m\u001b[0;34m)\u001b[0m \u001b[0;32mfrom\u001b[0m \u001b[0merr\u001b[0m\u001b[0;34m\u001b[0m\u001b[0;34m\u001b[0m\u001b[0m\n\u001b[0;32m--> 388\u001b[0;31m             \u001b[0;32mraise\u001b[0m \u001b[0mKeyError\u001b[0m\u001b[0;34m(\u001b[0m\u001b[0mkey\u001b[0m\u001b[0;34m)\u001b[0m\u001b[0;34m\u001b[0m\u001b[0;34m\u001b[0m\u001b[0m\n\u001b[0m\u001b[1;32m    389\u001b[0m         \u001b[0;32mreturn\u001b[0m \u001b[0msuper\u001b[0m\u001b[0;34m(\u001b[0m\u001b[0;34m)\u001b[0m\u001b[0;34m.\u001b[0m\u001b[0mget_loc\u001b[0m\u001b[0;34m(\u001b[0m\u001b[0mkey\u001b[0m\u001b[0;34m,\u001b[0m \u001b[0mmethod\u001b[0m\u001b[0;34m=\u001b[0m\u001b[0mmethod\u001b[0m\u001b[0;34m,\u001b[0m \u001b[0mtolerance\u001b[0m\u001b[0;34m=\u001b[0m\u001b[0mtolerance\u001b[0m\u001b[0;34m)\u001b[0m\u001b[0;34m\u001b[0m\u001b[0;34m\u001b[0m\u001b[0m\n\u001b[1;32m    390\u001b[0m \u001b[0;34m\u001b[0m\u001b[0m\n",
      "\u001b[0;31mKeyError\u001b[0m: 'September'"
     ]
    }
   ],
   "source": [
    "temp_df.loc['September']"
   ]
  },
  {
   "cell_type": "markdown",
   "id": "545f6e01",
   "metadata": {},
   "source": [
    "*We'd like to be able to access temperature values by month name. The easiest way to do this in pandas is to set an Index, or a set of row names, using the `.set_index()` method of DataFrames. What was the maximum temperature in October?*"
   ]
  },
  {
   "cell_type": "code",
   "execution_count": 80,
   "id": "a8bd17ac",
   "metadata": {},
   "outputs": [
    {
     "data": {
      "text/html": [
       "<div>\n",
       "<style scoped>\n",
       "    .dataframe tbody tr th:only-of-type {\n",
       "        vertical-align: middle;\n",
       "    }\n",
       "\n",
       "    .dataframe tbody tr th {\n",
       "        vertical-align: top;\n",
       "    }\n",
       "\n",
       "    .dataframe thead th {\n",
       "        text-align: right;\n",
       "    }\n",
       "</style>\n",
       "<table border=\"1\" class=\"dataframe\">\n",
       "  <thead>\n",
       "    <tr style=\"text-align: right;\">\n",
       "      <th></th>\n",
       "      <th>max_temp_f</th>\n",
       "    </tr>\n",
       "    <tr>\n",
       "      <th>month_name</th>\n",
       "      <th></th>\n",
       "    </tr>\n",
       "  </thead>\n",
       "  <tbody>\n",
       "    <tr>\n",
       "      <th>January</th>\n",
       "      <td>3.4</td>\n",
       "    </tr>\n",
       "    <tr>\n",
       "      <th>February</th>\n",
       "      <td>10.5</td>\n",
       "    </tr>\n",
       "    <tr>\n",
       "      <th>March</th>\n",
       "      <td>20.1</td>\n",
       "    </tr>\n",
       "    <tr>\n",
       "      <th>April</th>\n",
       "      <td>45.3</td>\n",
       "    </tr>\n",
       "    <tr>\n",
       "      <th>May</th>\n",
       "      <td>57.8</td>\n",
       "    </tr>\n",
       "    <tr>\n",
       "      <th>June</th>\n",
       "      <td>75.8</td>\n",
       "    </tr>\n",
       "    <tr>\n",
       "      <th>July</th>\n",
       "      <td>85.3</td>\n",
       "    </tr>\n",
       "    <tr>\n",
       "      <th>August</th>\n",
       "      <td>90.2</td>\n",
       "    </tr>\n",
       "    <tr>\n",
       "      <th>September</th>\n",
       "      <td>73.2</td>\n",
       "    </tr>\n",
       "    <tr>\n",
       "      <th>October</th>\n",
       "      <td>52.9</td>\n",
       "    </tr>\n",
       "    <tr>\n",
       "      <th>November</th>\n",
       "      <td>35.2</td>\n",
       "    </tr>\n",
       "    <tr>\n",
       "      <th>December</th>\n",
       "      <td>25.1</td>\n",
       "    </tr>\n",
       "  </tbody>\n",
       "</table>\n",
       "</div>"
      ],
      "text/plain": [
       "            max_temp_f\n",
       "month_name            \n",
       "January            3.4\n",
       "February          10.5\n",
       "March             20.1\n",
       "April             45.3\n",
       "May               57.8\n",
       "June              75.8\n",
       "July              85.3\n",
       "August            90.2\n",
       "September         73.2\n",
       "October           52.9\n",
       "November          35.2\n",
       "December          25.1"
      ]
     },
     "execution_count": 80,
     "metadata": {},
     "output_type": "execute_result"
    }
   ],
   "source": [
    "temp_df.set_index('month_name', inplace=True)\n",
    "temp_df"
   ]
  },
  {
   "cell_type": "markdown",
   "id": "346bc6f4",
   "metadata": {},
   "source": [
    "*Take a look at your DataFrame again. is this what you would expect? Set the Index using the `inplace=True` argument so that it persists.*"
   ]
  },
  {
   "cell_type": "code",
   "execution_count": 81,
   "id": "1e2ab4f5",
   "metadata": {},
   "outputs": [
    {
     "data": {
      "text/plain": [
       "Index(['January', 'February', 'March', 'April', 'May', 'June', 'July',\n",
       "       'August', 'September', 'October', 'November', 'December'],\n",
       "      dtype='object', name='month_name')"
      ]
     },
     "execution_count": 81,
     "metadata": {},
     "output_type": "execute_result"
    }
   ],
   "source": [
    "temp_df.index"
   ]
  },
  {
   "cell_type": "code",
   "execution_count": 82,
   "id": "4e7483d3",
   "metadata": {},
   "outputs": [
    {
     "data": {
      "text/plain": [
       "max_temp_f    73.2\n",
       "Name: September, dtype: float64"
      ]
     },
     "execution_count": 82,
     "metadata": {},
     "output_type": "execute_result"
    }
   ],
   "source": [
    "temp_df.loc['September']"
   ]
  },
  {
   "cell_type": "markdown",
   "id": "02e5d047",
   "metadata": {},
   "source": [
    "*Write a **function** to convert a temperature from Fahrenheit to Celcius (subtract 32 then multiply by 5/9). Test it on the value 57.8 degrees F (roughly 14.3 degrees C)*"
   ]
  },
  {
   "cell_type": "code",
   "execution_count": null,
   "id": "92d44858",
   "metadata": {},
   "outputs": [],
   "source": []
  },
  {
   "cell_type": "markdown",
   "id": "000409ea",
   "metadata": {},
   "source": [
    "*Convert all the Fahrenheit values in your `temp_f` column using the `.apply()` method of pandas Series.*"
   ]
  },
  {
   "cell_type": "code",
   "execution_count": null,
   "id": "9fe0dcc3",
   "metadata": {},
   "outputs": [],
   "source": []
  },
  {
   "cell_type": "markdown",
   "id": "b69af5b4",
   "metadata": {},
   "source": [
    "*Plot the temperatures using the `.plot.bar()` method of DataFrames*"
   ]
  },
  {
   "cell_type": "code",
   "execution_count": null,
   "id": "e0e7c298",
   "metadata": {},
   "outputs": [],
   "source": []
  }
 ],
 "metadata": {
  "kernelspec": {
   "display_name": "Python 3 (ipykernel)",
   "language": "python",
   "name": "python3"
  },
  "language_info": {
   "codemirror_mode": {
    "name": "ipython",
    "version": 3
   },
   "file_extension": ".py",
   "mimetype": "text/x-python",
   "name": "python",
   "nbconvert_exporter": "python",
   "pygments_lexer": "ipython3",
   "version": "3.8.13"
  },
  "varInspector": {
   "cols": {
    "lenName": 16,
    "lenType": 16,
    "lenVar": 40
   },
   "kernels_config": {
    "python": {
     "delete_cmd_postfix": "",
     "delete_cmd_prefix": "del ",
     "library": "var_list.py",
     "varRefreshCmd": "print(var_dic_list())"
    },
    "r": {
     "delete_cmd_postfix": ") ",
     "delete_cmd_prefix": "rm(",
     "library": "var_list.r",
     "varRefreshCmd": "cat(var_dic_list()) "
    }
   },
   "oldHeight": 369.317,
   "position": {
    "height": "40px",
    "left": "508px",
    "right": "20px",
    "top": "105px",
    "width": "350px"
   },
   "types_to_exclude": [
    "module",
    "function",
    "builtin_function_or_method",
    "instance",
    "_Feature"
   ],
   "varInspector_section_display": "none",
   "window_display": true
  }
 },
 "nbformat": 4,
 "nbformat_minor": 5
}
