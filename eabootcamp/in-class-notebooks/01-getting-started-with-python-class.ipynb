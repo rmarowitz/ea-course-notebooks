{
 "cells": [
  {
   "cell_type": "markdown",
   "id": "2323c5bf",
   "metadata": {},
   "source": [
    "# Get Started with Python\n",
    "Earth Analytics Bootcamp Demo Notebook Week 2"
   ]
  },
  {
   "cell_type": "markdown",
   "id": "8557643d",
   "metadata": {},
   "source": [
    "## Variables\n",
    "Python uses \"duck typing,\" which makes it easy to get started because you don't have to specify the type of every variable. Sometimes you will still want to know what type Python decided on - For that you can use the `type()` function."
   ]
  },
  {
   "cell_type": "markdown",
   "id": "c0d30f28",
   "metadata": {},
   "source": [
    "*Define a variable for the conversion factor between inches and millimeters*"
   ]
  },
  {
   "cell_type": "code",
   "execution_count": 1,
   "id": "6d0417ca",
   "metadata": {},
   "outputs": [],
   "source": [
    "in_to_mm = 25.4"
   ]
  },
  {
   "cell_type": "markdown",
   "id": "1d588de0",
   "metadata": {},
   "source": [
    "*Define a variable for the number of months in a year*"
   ]
  },
  {
   "cell_type": "code",
   "execution_count": 2,
   "id": "62e85957",
   "metadata": {},
   "outputs": [],
   "source": [
    "months_in_year = 12"
   ]
  },
  {
   "cell_type": "markdown",
   "id": "d55d822d",
   "metadata": {},
   "source": [
    "*Define a variable for the 3-letter abbreviation for the month of November*"
   ]
  },
  {
   "cell_type": "code",
   "execution_count": 3,
   "id": "e30e08d7",
   "metadata": {},
   "outputs": [],
   "source": [
    "Nov = 'Nov'"
   ]
  },
  {
   "cell_type": "markdown",
   "id": "f1f4581a",
   "metadata": {},
   "source": [
    "## Operators"
   ]
  },
  {
   "cell_type": "markdown",
   "id": "1fe1bf29",
   "metadata": {},
   "source": [
    "*Convert 1 mm of rain to inches*"
   ]
  },
  {
   "cell_type": "code",
   "execution_count": 4,
   "id": "89298c00",
   "metadata": {},
   "outputs": [
    {
     "data": {
      "text/plain": [
       "(1, int, 0.03937007874015748, float)"
      ]
     },
     "execution_count": 4,
     "metadata": {},
     "output_type": "execute_result"
    }
   ],
   "source": []
  },
  {
   "cell_type": "markdown",
   "id": "33b3dd66",
   "metadata": {},
   "source": [
    "*Define a variable, precip, as 2.36 inches, and convert **the same variable** to mm*"
   ]
  },
  {
   "cell_type": "code",
   "execution_count": 5,
   "id": "d4ea4128",
   "metadata": {},
   "outputs": [
    {
     "data": {
      "text/plain": [
       "(59.943999999999996, float)"
      ]
     },
     "execution_count": 5,
     "metadata": {},
     "output_type": "execute_result"
    }
   ],
   "source": []
  },
  {
   "cell_type": "markdown",
   "id": "acc12ad0",
   "metadata": {},
   "source": [
    "*Define two variables, `april_precip_mm` (43.2 mm) and `may_precip_mm` (15.6 mm). Check if April precipitation was more than May precipitation.*"
   ]
  },
  {
   "cell_type": "code",
   "execution_count": 6,
   "id": "5b0b92a3",
   "metadata": {},
   "outputs": [
    {
     "data": {
      "text/plain": [
       "True"
      ]
     },
     "execution_count": 6,
     "metadata": {},
     "output_type": "execute_result"
    }
   ],
   "source": []
  },
  {
   "cell_type": "markdown",
   "id": "e6af7b7d",
   "metadata": {},
   "source": [
    "#### Some less intuitive operators\n",
    "There are a couple of operators in Python that don't do what most people expect"
   ]
  },
  {
   "cell_type": "markdown",
   "id": "c13d9b3c",
   "metadata": {},
   "source": [
    "*Compute the area of a 500 m raster pixel*"
   ]
  },
  {
   "cell_type": "code",
   "execution_count": 7,
   "id": "8e4eb53a",
   "metadata": {},
   "outputs": [
    {
     "data": {
      "text/plain": [
       "502"
      ]
     },
     "execution_count": 7,
     "metadata": {},
     "output_type": "execute_result"
    }
   ],
   "source": [
    "# Try the caret operator\n"
   ]
  },
  {
   "cell_type": "code",
   "execution_count": 8,
   "id": "9ea80765",
   "metadata": {},
   "outputs": [
    {
     "data": {
      "text/plain": [
       "250000"
      ]
     },
     "execution_count": 8,
     "metadata": {},
     "output_type": "execute_result"
    }
   ],
   "source": [
    "# Now the correct operator\n"
   ]
  },
  {
   "cell_type": "markdown",
   "id": "4790ebe0",
   "metadata": {},
   "source": [
    "*Check if April and May precipitation are equal*"
   ]
  },
  {
   "cell_type": "code",
   "execution_count": 9,
   "id": "417f6c8b",
   "metadata": {},
   "outputs": [],
   "source": [
    "# We already know what the equal sign does..."
   ]
  },
  {
   "cell_type": "code",
   "execution_count": null,
   "id": "6aa44d8d",
   "metadata": {},
   "outputs": [],
   "source": []
  },
  {
   "cell_type": "code",
   "execution_count": 10,
   "id": "05faccac",
   "metadata": {},
   "outputs": [],
   "source": [
    "# The correct operator:"
   ]
  },
  {
   "cell_type": "code",
   "execution_count": null,
   "id": "7965e31e",
   "metadata": {},
   "outputs": [],
   "source": []
  },
  {
   "cell_type": "markdown",
   "id": "71e59ed0",
   "metadata": {},
   "source": [
    "#### Underneath the hood - Equality"
   ]
  },
  {
   "cell_type": "markdown",
   "id": "e79e7140",
   "metadata": {},
   "source": [
    "*Define two variables with values 2.0 and 2. Test if they are equal*"
   ]
  },
  {
   "cell_type": "code",
   "execution_count": 11,
   "id": "a6f4aa1d",
   "metadata": {},
   "outputs": [
    {
     "data": {
      "text/plain": [
       "True"
      ]
     },
     "execution_count": 11,
     "metadata": {},
     "output_type": "execute_result"
    }
   ],
   "source": []
  },
  {
   "cell_type": "markdown",
   "id": "93512216",
   "metadata": {},
   "source": [
    "*Check if they are the same type*"
   ]
  },
  {
   "cell_type": "code",
   "execution_count": 12,
   "id": "e0a709e9",
   "metadata": {},
   "outputs": [
    {
     "data": {
      "text/plain": [
       "False"
      ]
     },
     "execution_count": 12,
     "metadata": {},
     "output_type": "execute_result"
    }
   ],
   "source": []
  },
  {
   "cell_type": "markdown",
   "id": "5717f6f5",
   "metadata": {},
   "source": [
    "*Now test if they are the same*"
   ]
  },
  {
   "cell_type": "code",
   "execution_count": 13,
   "id": "bdfe4fa8",
   "metadata": {},
   "outputs": [
    {
     "data": {
      "text/plain": [
       "False"
      ]
     },
     "execution_count": 13,
     "metadata": {},
     "output_type": "execute_result"
    }
   ],
   "source": []
  },
  {
   "cell_type": "markdown",
   "id": "a2ba3fe1",
   "metadata": {},
   "source": [
    "*Finally, convert the float to an integer and test if they are the same*"
   ]
  },
  {
   "cell_type": "code",
   "execution_count": 14,
   "id": "2a551646",
   "metadata": {},
   "outputs": [
    {
     "data": {
      "text/plain": [
       "True"
      ]
     },
     "execution_count": 14,
     "metadata": {},
     "output_type": "execute_result"
    }
   ],
   "source": []
  },
  {
   "cell_type": "markdown",
   "id": "8a1aed25",
   "metadata": {},
   "source": [
    "## Lists\n",
    "*Create a list of the following (invented) monthly maximum Fahrenheit temperature values:*\n",
    "  1. 3.4\n",
    "  2. 10.5\n",
    "  3. 20.1\n",
    "  4. 45.3\n",
    "  5. 57.8\n",
    "  6. 75.8\n",
    "  7. 85.3\n",
    "  8. 90.2\n",
    "  9. 73.2\n",
    "  10. 52.9\n",
    "  11. 35.2\n",
    "  12. 25.1"
   ]
  },
  {
   "cell_type": "code",
   "execution_count": 59,
   "id": "6d2f40e1",
   "metadata": {},
   "outputs": [],
   "source": [
    "monthly_max_temp_lst = [\n",
    "    3.4, 10.5, 20.1, 45.3, 57.8, 75.8, \n",
    "    85.3, 90.2, 73.2, 52.9, 35.2, 25.1\n",
    "]"
   ]
  },
  {
   "cell_type": "markdown",
   "id": "7f4dcd07",
   "metadata": {},
   "source": [
    "What about this method of storing temperatures might be considered inconvenient or error-prone?"
   ]
  },
  {
   "cell_type": "markdown",
   "id": "9e7d7f84",
   "metadata": {},
   "source": [
    "### Slicing and Indexing lists\n",
    "Python indices start at zero!"
   ]
  },
  {
   "cell_type": "markdown",
   "id": "75a4851e",
   "metadata": {},
   "source": [
    "*Pull out the March temperature, 20.1 deg F, from the list*"
   ]
  },
  {
   "cell_type": "code",
   "execution_count": 16,
   "id": "b031de0a",
   "metadata": {},
   "outputs": [
    {
     "data": {
      "text/plain": [
       "20.1"
      ]
     },
     "execution_count": 16,
     "metadata": {},
     "output_type": "execute_result"
    }
   ],
   "source": []
  },
  {
   "cell_type": "markdown",
   "id": "22386626",
   "metadata": {},
   "source": [
    "*Pull out the last element of the `monthly_temp_f` list*"
   ]
  },
  {
   "cell_type": "code",
   "execution_count": 17,
   "id": "77b80657",
   "metadata": {},
   "outputs": [
    {
     "data": {
      "text/plain": [
       "25.1"
      ]
     },
     "execution_count": 17,
     "metadata": {},
     "output_type": "execute_result"
    }
   ],
   "source": []
  },
  {
   "cell_type": "markdown",
   "id": "c71e82ab",
   "metadata": {},
   "source": [
    "*Pull out the second-to-last element of the list. Use the Python shortcut for getting elements counting from the end!*"
   ]
  },
  {
   "cell_type": "code",
   "execution_count": 18,
   "id": "65066399",
   "metadata": {},
   "outputs": [
    {
     "data": {
      "text/plain": [
       "35.2"
      ]
     },
     "execution_count": 18,
     "metadata": {},
     "output_type": "execute_result"
    }
   ],
   "source": []
  },
  {
   "cell_type": "markdown",
   "id": "4be5d820",
   "metadata": {},
   "source": [
    "*Get a list of the temperatures for the summer months (March, April, May)*"
   ]
  },
  {
   "cell_type": "code",
   "execution_count": 19,
   "id": "0c32585a",
   "metadata": {},
   "outputs": [
    {
     "data": {
      "text/plain": [
       "[20.1, 45.3, 57.8]"
      ]
     },
     "execution_count": 19,
     "metadata": {},
     "output_type": "execute_result"
    }
   ],
   "source": []
  },
  {
   "cell_type": "markdown",
   "id": "41cba5fe",
   "metadata": {},
   "source": [
    "### Changing and combining lists"
   ]
  },
  {
   "cell_type": "markdown",
   "id": "0a2ef343",
   "metadata": {},
   "source": [
    "*Make a list of month names for each season (we'll define seasons as DJF, MAM, JJA, and SON)*"
   ]
  },
  {
   "cell_type": "code",
   "execution_count": 38,
   "id": "0f3e5f51",
   "metadata": {},
   "outputs": [],
   "source": [
    "DJF = ['December', 'January', 'February']\n",
    "MAM =  ['March', 'April', 'May']\n",
    "JJA =  ['June', 'July', 'August']\n",
    "SON = ['September', 'October', 'November']"
   ]
  },
  {
   "cell_type": "markdown",
   "id": "118abe4f",
   "metadata": {},
   "source": [
    "*Combine the lists to make a single list of all months in the year*"
   ]
  },
  {
   "cell_type": "code",
   "execution_count": 39,
   "id": "a5eef66f",
   "metadata": {},
   "outputs": [
    {
     "data": {
      "text/plain": [
       "['December',\n",
       " 'January',\n",
       " 'February',\n",
       " 'March',\n",
       " 'April',\n",
       " 'May',\n",
       " 'June',\n",
       " 'July',\n",
       " 'August',\n",
       " 'September',\n",
       " 'October',\n",
       " 'November']"
      ]
     },
     "execution_count": 39,
     "metadata": {},
     "output_type": "execute_result"
    }
   ],
   "source": [
    "months = DJF + MAM + JJA + SON\n",
    "months"
   ]
  },
  {
   "cell_type": "markdown",
   "id": "0118393b",
   "metadata": {},
   "source": [
    "*We'd like the list to start with January. Move December to the end*"
   ]
  },
  {
   "cell_type": "code",
   "execution_count": 40,
   "id": "28083a51",
   "metadata": {},
   "outputs": [
    {
     "data": {
      "text/plain": [
       "['January',\n",
       " 'February',\n",
       " 'March',\n",
       " 'April',\n",
       " 'May',\n",
       " 'June',\n",
       " 'July',\n",
       " 'August',\n",
       " 'September',\n",
       " 'October',\n",
       " 'November']"
      ]
     },
     "execution_count": 40,
     "metadata": {},
     "output_type": "execute_result"
    }
   ],
   "source": [
    "months = months[1:]\n",
    "months"
   ]
  },
  {
   "cell_type": "code",
   "execution_count": 41,
   "id": "c79bf06c",
   "metadata": {},
   "outputs": [
    {
     "data": {
      "text/plain": [
       "['January',\n",
       " 'February',\n",
       " 'March',\n",
       " 'April',\n",
       " 'May',\n",
       " 'June',\n",
       " 'July',\n",
       " 'August',\n",
       " 'September',\n",
       " 'October',\n",
       " 'November',\n",
       " 'December']"
      ]
     },
     "execution_count": 41,
     "metadata": {},
     "output_type": "execute_result"
    }
   ],
   "source": [
    "months.append('December')\n",
    "months"
   ]
  },
  {
   "cell_type": "markdown",
   "id": "8b6b21c6",
   "metadata": {},
   "source": [
    "What happens if you run the cell above multiple times?"
   ]
  },
  {
   "cell_type": "markdown",
   "id": "4efd8a70",
   "metadata": {},
   "source": [
    "*Modify the code above so that it only runs if the list does not already start with January*"
   ]
  },
  {
   "cell_type": "code",
   "execution_count": 28,
   "id": "e1c32bbc",
   "metadata": {},
   "outputs": [
    {
     "name": "stdout",
     "output_type": "stream",
     "text": [
      "None\n"
     ]
    }
   ],
   "source": []
  },
  {
   "cell_type": "markdown",
   "id": "9471a0dc",
   "metadata": {},
   "source": [
    "*Define a variable `month_num` (4). Use it with your list and the `.format()` method of strings  to print out the phrase \"April is month 4\". Try other months to make sure it works.*"
   ]
  },
  {
   "cell_type": "code",
   "execution_count": 7,
   "id": "a1130e24",
   "metadata": {},
   "outputs": [
    {
     "data": {
      "text/plain": [
       "'April is month 4'"
      ]
     },
     "execution_count": 7,
     "metadata": {},
     "output_type": "execute_result"
    }
   ],
   "source": [
    "month_num = 4 \n",
    "\"April is month {}\".format(month_num)"
   ]
  },
  {
   "cell_type": "markdown",
   "id": "7c0d802a",
   "metadata": {},
   "source": [
    "*Print out the following phrase about each month: \"January begins with Jan\"*"
   ]
  },
  {
   "cell_type": "code",
   "execution_count": 48,
   "id": "c68602c3",
   "metadata": {},
   "outputs": [
    {
     "name": "stdout",
     "output_type": "stream",
     "text": [
      "January begins with Jan\n",
      "February begins with Feb\n",
      "March begins with Mar\n",
      "April begins with Apr\n",
      "May begins with May\n",
      "June begins with Jun\n",
      "July begins with Jul\n",
      "August begins with Aug\n",
      "September begins with Sep\n",
      "October begins with Oct\n",
      "November begins with Nov\n",
      "December begins with Dec\n"
     ]
    }
   ],
   "source": [
    "for month in months:\n",
    "    print('{} begins with {}'.format(month, month[:3]))"
   ]
  },
  {
   "cell_type": "markdown",
   "id": "f11a2f3d",
   "metadata": {},
   "source": [
    "*Use the `enumerate()` function to print the following phrase about each month: \"January is month 1\"*"
   ]
  },
  {
   "cell_type": "code",
   "execution_count": 55,
   "id": "da0edd2e",
   "metadata": {},
   "outputs": [
    {
     "name": "stdout",
     "output_type": "stream",
     "text": [
      "January is month 1\n",
      "February is month 2\n",
      "March is month 3\n",
      "April is month 4\n",
      "May is month 5\n",
      "June is month 6\n",
      "July is month 7\n",
      "August is month 8\n",
      "September is month 9\n",
      "October is month 10\n",
      "November is month 11\n",
      "December is month 12\n"
     ]
    }
   ],
   "source": [
    "for i, month in enumerate(months):\n",
    "    print('{} is month {}'.format(month, i+1))"
   ]
  },
  {
   "cell_type": "markdown",
   "id": "fbcf649a",
   "metadata": {},
   "source": [
    "*Using the `zip()` function, print out the following phrase for each month: \"In January the maximum temperature was 3.4 degrees F\".*"
   ]
  },
  {
   "cell_type": "code",
   "execution_count": 65,
   "id": "0c479a89",
   "metadata": {},
   "outputs": [
    {
     "name": "stdout",
     "output_type": "stream",
     "text": [
      "In January the maximum temperature was 3.4 degrees F\n",
      "In February the maximum temperature was 10.5 degrees F\n",
      "In March the maximum temperature was 20.1 degrees F\n",
      "In April the maximum temperature was 45.3 degrees F\n",
      "In May the maximum temperature was 57.8 degrees F\n",
      "In June the maximum temperature was 75.8 degrees F\n",
      "In July the maximum temperature was 85.3 degrees F\n",
      "In August the maximum temperature was 90.2 degrees F\n",
      "In September the maximum temperature was 73.2 degrees F\n",
      "In October the maximum temperature was 52.9 degrees F\n",
      "In November the maximum temperature was 35.2 degrees F\n",
      "In December the maximum temperature was 25.1 degrees F\n"
     ]
    }
   ],
   "source": [
    "for month, temp_f in zip(months, monthly_max_temp_lst):\n",
    "    print((\n",
    "        'In {} the maximum temperature was {} degrees F'\n",
    "          .format(month, temp_f)\n",
    "    ))"
   ]
  },
  {
   "cell_type": "markdown",
   "id": "9a15e0a6",
   "metadata": {},
   "source": [
    "## Dictionaries\n",
    "Sometimes we'd like to refer to objects by name in Python, instead of by their order alone. Dictionaries let us do that.\n",
    "\n",
    "A note: dictionaries usually don't have an order. However, Python was recently updated to make dictionaries more efficient - and it so happens that this method also ensures that dictionary keys will always remain in the order they were added. There is also an object called an `OrderedDict` from the `collections` library that will allow you to control the order of a dictionary like you do a list."
   ]
  },
  {
   "cell_type": "markdown",
   "id": "4224c862",
   "metadata": {},
   "source": [
    "*Create a dictionary where the keys are the month names and the values are the Fahrenheit maximum monthly temperatures.*"
   ]
  },
  {
   "cell_type": "code",
   "execution_count": 74,
   "id": "521257a1",
   "metadata": {},
   "outputs": [
    {
     "data": {
      "text/plain": [
       "{'January': 3.4,\n",
       " 'February': 10.5,\n",
       " 'March': 20.1,\n",
       " 'April': 45.3,\n",
       " 'May': 57.8,\n",
       " 'June': 75.8,\n",
       " 'July': 85.3,\n",
       " 'August': 90.2,\n",
       " 'September': 73.2,\n",
       " 'October': 52.9,\n",
       " 'November': 35.2,\n",
       " 'December': 25.1}"
      ]
     },
     "execution_count": 74,
     "metadata": {},
     "output_type": "execute_result"
    }
   ],
   "source": [
    "max_temp_dict = {}\n",
    "\n",
    "for month, temp_f in zip(months, monthly_max_temp_lst):\n",
    "        max_temp_dict[month] = temp_f\n",
    "        \n",
    "max_temp_dict"
   ]
  },
  {
   "cell_type": "markdown",
   "id": "c8817dc5",
   "metadata": {},
   "source": [
    "*What was the maximum temperature in March?*"
   ]
  },
  {
   "cell_type": "code",
   "execution_count": 75,
   "id": "97ceb172",
   "metadata": {},
   "outputs": [
    {
     "data": {
      "text/plain": [
       "20.1"
      ]
     },
     "execution_count": 75,
     "metadata": {},
     "output_type": "execute_result"
    }
   ],
   "source": [
    "max_temp_dict['March']"
   ]
  },
  {
   "cell_type": "markdown",
   "id": "7cd41c3a",
   "metadata": {},
   "source": [
    "*Suppose we noticed an error in the October temperature - it should actually be 52.0. Correct the error*"
   ]
  },
  {
   "cell_type": "code",
   "execution_count": 76,
   "id": "b0113be0",
   "metadata": {},
   "outputs": [
    {
     "data": {
      "text/plain": [
       "{'January': 3.4,\n",
       " 'February': 10.5,\n",
       " 'March': 20.1,\n",
       " 'April': 45.3,\n",
       " 'May': 57.8,\n",
       " 'June': 75.8,\n",
       " 'July': 85.3,\n",
       " 'August': 90.2,\n",
       " 'September': 73.2,\n",
       " 'October': 52.0,\n",
       " 'November': 35.2,\n",
       " 'December': 25.1}"
      ]
     },
     "execution_count": 76,
     "metadata": {},
     "output_type": "execute_result"
    }
   ],
   "source": [
    "max_temp_dict['October'] = 52.0\n",
    "max_temp_dict"
   ]
  },
  {
   "cell_type": "markdown",
   "id": "f4f3aae9",
   "metadata": {},
   "source": [
    "*Try removing the value for June and adding it back again. What happens to the order?*"
   ]
  },
  {
   "cell_type": "code",
   "execution_count": 77,
   "id": "e23c3a8d",
   "metadata": {},
   "outputs": [
    {
     "data": {
      "text/plain": [
       "{'January': 3.4,\n",
       " 'February': 10.5,\n",
       " 'March': 20.1,\n",
       " 'April': 45.3,\n",
       " 'May': 57.8,\n",
       " 'July': 85.3,\n",
       " 'August': 90.2,\n",
       " 'September': 73.2,\n",
       " 'October': 52.0,\n",
       " 'November': 35.2,\n",
       " 'December': 25.1,\n",
       " 'June': 75.8}"
      ]
     },
     "execution_count": 77,
     "metadata": {},
     "output_type": "execute_result"
    }
   ],
   "source": [
    "del max_temp_dict['June']\n",
    "max_temp_dict['June'] = 75.8\n",
    "max_temp_dict"
   ]
  },
  {
   "cell_type": "markdown",
   "id": "9b6a696c",
   "metadata": {},
   "source": [
    "*That was a lot of typing to insert the dictionary! More typing means more errors. Try to create the dictionary one month at a time using a for loop instead.*"
   ]
  },
  {
   "cell_type": "code",
   "execution_count": 32,
   "id": "47ac00c2",
   "metadata": {},
   "outputs": [],
   "source": []
  },
  {
   "cell_type": "code",
   "execution_count": 33,
   "id": "8c51b920",
   "metadata": {},
   "outputs": [
    {
     "data": {
      "text/plain": [
       "{'January': 3.4,\n",
       " 'February': 10.5,\n",
       " 'March': 20.1,\n",
       " 'April': 45.3,\n",
       " 'May': 57.8,\n",
       " 'June': 75.8,\n",
       " 'July': 85.3,\n",
       " 'August': 90.2,\n",
       " 'September': 73.2,\n",
       " 'October': 52.9,\n",
       " 'November': 35.2,\n",
       " 'December': 25.1}"
      ]
     },
     "execution_count": 33,
     "metadata": {},
     "output_type": "execute_result"
    }
   ],
   "source": []
  },
  {
   "cell_type": "markdown",
   "id": "836e5cd2",
   "metadata": {},
   "source": [
    "*What was the maximum temperature in month 8?*"
   ]
  },
  {
   "cell_type": "code",
   "execution_count": 79,
   "id": "04924dae",
   "metadata": {},
   "outputs": [
    {
     "data": {
      "text/plain": [
       "90.2"
      ]
     },
     "execution_count": 79,
     "metadata": {},
     "output_type": "execute_result"
    }
   ],
   "source": [
    "max_temp_dict[months[7]]"
   ]
  },
  {
   "cell_type": "markdown",
   "id": "057443ef",
   "metadata": {},
   "source": [
    "*Print out \"January begins with Jan\" for each month using the dictionary*"
   ]
  },
  {
   "cell_type": "code",
   "execution_count": 82,
   "id": "c2cf8bbd",
   "metadata": {},
   "outputs": [
    {
     "name": "stdout",
     "output_type": "stream",
     "text": [
      "January begins with Jan\n",
      "February begins with Feb\n",
      "March begins with Mar\n",
      "April begins with Apr\n",
      "May begins with May\n",
      "July begins with Jul\n",
      "August begins with Aug\n",
      "September begins with Sep\n",
      "October begins with Oct\n",
      "November begins with Nov\n",
      "December begins with Dec\n",
      "June begins with Jun\n"
     ]
    }
   ],
   "source": [
    "for month in max_temp_dict:\n",
    "    print('{} begins with {}'.format(month,month[:3]))"
   ]
  },
  {
   "cell_type": "markdown",
   "id": "97cffb1c",
   "metadata": {},
   "source": [
    "*Print out the following phrase for each month: \"In January the maximum temperature was 3.4 degrees F\"*"
   ]
  },
  {
   "cell_type": "code",
   "execution_count": 83,
   "id": "b81f78d0",
   "metadata": {},
   "outputs": [
    {
     "name": "stdout",
     "output_type": "stream",
     "text": [
      "In January the maximum temperature was 3.4 degreed F\n",
      "In February the maximum temperature was 10.5 degreed F\n",
      "In March the maximum temperature was 20.1 degreed F\n",
      "In April the maximum temperature was 45.3 degreed F\n",
      "In May the maximum temperature was 57.8 degreed F\n",
      "In July the maximum temperature was 85.3 degreed F\n",
      "In August the maximum temperature was 90.2 degreed F\n",
      "In September the maximum temperature was 73.2 degreed F\n",
      "In October the maximum temperature was 52.0 degreed F\n",
      "In November the maximum temperature was 35.2 degreed F\n",
      "In December the maximum temperature was 25.1 degreed F\n",
      "In June the maximum temperature was 75.8 degreed F\n"
     ]
    }
   ],
   "source": [
    "for month, temp_f in max_temp_dict.items():\n",
    "    print((\n",
    "    'In {} the maximum temperature was {} degreed F'\n",
    "    .format(month, temp_f)\n",
    "    ))"
   ]
  },
  {
   "cell_type": "markdown",
   "id": "b499483c",
   "metadata": {},
   "source": [
    "*Print out the following phrase for each month using the `.items()` method of dictionaries: \"In January the maximum temperature was 3.4 degrees F\"*"
   ]
  },
  {
   "cell_type": "code",
   "execution_count": 37,
   "id": "7f2c4883",
   "metadata": {},
   "outputs": [
    {
     "name": "stdout",
     "output_type": "stream",
     "text": [
      "In January the maximum temperature was 3.4 degrees F\n",
      "In February the maximum temperature was 10.5 degrees F\n",
      "In March the maximum temperature was 20.1 degrees F\n",
      "In April the maximum temperature was 45.3 degrees F\n",
      "In May the maximum temperature was 57.8 degrees F\n",
      "In June the maximum temperature was 75.8 degrees F\n",
      "In July the maximum temperature was 85.3 degrees F\n",
      "In August the maximum temperature was 90.2 degrees F\n",
      "In September the maximum temperature was 73.2 degrees F\n",
      "In October the maximum temperature was 52.9 degrees F\n",
      "In November the maximum temperature was 35.2 degrees F\n",
      "In December the maximum temperature was 25.1 degrees F\n"
     ]
    }
   ],
   "source": []
  },
  {
   "cell_type": "markdown",
   "id": "71dbd196",
   "metadata": {},
   "source": [
    "## Pandas DataFrames\n",
    "Right now, our temperature list doesn't have any labels, which makes it hard to work with. The `pandas` library offers a solution for this problem. DataFrames are a lot like databases or spreadsheets. If you use dataframes or tibbles in R, there are a lot of similarities there as well (although beware that Python does not support the fancy quoting/quosure syntax that R does)."
   ]
  },
  {
   "cell_type": "markdown",
   "id": "b2b49817",
   "metadata": {},
   "source": [
    "*Make a DataFrame with your two lists, `months` and `monthly_temp_f` as columns*"
   ]
  },
  {
   "cell_type": "code",
   "execution_count": 87,
   "id": "e5530ef1",
   "metadata": {},
   "outputs": [
    {
     "data": {
      "text/html": [
       "<div>\n",
       "<style scoped>\n",
       "    .dataframe tbody tr th:only-of-type {\n",
       "        vertical-align: middle;\n",
       "    }\n",
       "\n",
       "    .dataframe tbody tr th {\n",
       "        vertical-align: top;\n",
       "    }\n",
       "\n",
       "    .dataframe thead th {\n",
       "        text-align: right;\n",
       "    }\n",
       "</style>\n",
       "<table border=\"1\" class=\"dataframe\">\n",
       "  <thead>\n",
       "    <tr style=\"text-align: right;\">\n",
       "      <th></th>\n",
       "      <th>month_name</th>\n",
       "      <th>max_temp_f</th>\n",
       "    </tr>\n",
       "  </thead>\n",
       "  <tbody>\n",
       "    <tr>\n",
       "      <th>0</th>\n",
       "      <td>January</td>\n",
       "      <td>3.4</td>\n",
       "    </tr>\n",
       "    <tr>\n",
       "      <th>1</th>\n",
       "      <td>February</td>\n",
       "      <td>10.5</td>\n",
       "    </tr>\n",
       "    <tr>\n",
       "      <th>2</th>\n",
       "      <td>March</td>\n",
       "      <td>20.1</td>\n",
       "    </tr>\n",
       "    <tr>\n",
       "      <th>3</th>\n",
       "      <td>April</td>\n",
       "      <td>45.3</td>\n",
       "    </tr>\n",
       "    <tr>\n",
       "      <th>4</th>\n",
       "      <td>May</td>\n",
       "      <td>57.8</td>\n",
       "    </tr>\n",
       "    <tr>\n",
       "      <th>5</th>\n",
       "      <td>June</td>\n",
       "      <td>75.8</td>\n",
       "    </tr>\n",
       "    <tr>\n",
       "      <th>6</th>\n",
       "      <td>July</td>\n",
       "      <td>85.3</td>\n",
       "    </tr>\n",
       "    <tr>\n",
       "      <th>7</th>\n",
       "      <td>August</td>\n",
       "      <td>90.2</td>\n",
       "    </tr>\n",
       "    <tr>\n",
       "      <th>8</th>\n",
       "      <td>September</td>\n",
       "      <td>73.2</td>\n",
       "    </tr>\n",
       "    <tr>\n",
       "      <th>9</th>\n",
       "      <td>October</td>\n",
       "      <td>52.9</td>\n",
       "    </tr>\n",
       "    <tr>\n",
       "      <th>10</th>\n",
       "      <td>November</td>\n",
       "      <td>35.2</td>\n",
       "    </tr>\n",
       "    <tr>\n",
       "      <th>11</th>\n",
       "      <td>December</td>\n",
       "      <td>25.1</td>\n",
       "    </tr>\n",
       "  </tbody>\n",
       "</table>\n",
       "</div>"
      ],
      "text/plain": [
       "   month_name  max_temp_f\n",
       "0     January         3.4\n",
       "1    February        10.5\n",
       "2       March        20.1\n",
       "3       April        45.3\n",
       "4         May        57.8\n",
       "5        June        75.8\n",
       "6        July        85.3\n",
       "7      August        90.2\n",
       "8   September        73.2\n",
       "9     October        52.9\n",
       "10   November        35.2\n",
       "11   December        25.1"
      ]
     },
     "execution_count": 87,
     "metadata": {},
     "output_type": "execute_result"
    }
   ],
   "source": [
    "import pandas as pd\n",
    "temp_df = pd.DataFrame({\n",
    "    'month_name': months, \n",
    "    'max_temp_f': monthly_max_temp_lst\n",
    "})\n",
    "temp_df"
   ]
  },
  {
   "cell_type": "markdown",
   "id": "4e58bc79",
   "metadata": {},
   "source": [
    "*Take a look at the month column*"
   ]
  },
  {
   "cell_type": "code",
   "execution_count": 89,
   "id": "8f2c068a",
   "metadata": {},
   "outputs": [
    {
     "data": {
      "text/html": [
       "<div>\n",
       "<style scoped>\n",
       "    .dataframe tbody tr th:only-of-type {\n",
       "        vertical-align: middle;\n",
       "    }\n",
       "\n",
       "    .dataframe tbody tr th {\n",
       "        vertical-align: top;\n",
       "    }\n",
       "\n",
       "    .dataframe thead th {\n",
       "        text-align: right;\n",
       "    }\n",
       "</style>\n",
       "<table border=\"1\" class=\"dataframe\">\n",
       "  <thead>\n",
       "    <tr style=\"text-align: right;\">\n",
       "      <th></th>\n",
       "      <th>max_temp_f</th>\n",
       "    </tr>\n",
       "    <tr>\n",
       "      <th>month_name</th>\n",
       "      <th></th>\n",
       "    </tr>\n",
       "  </thead>\n",
       "  <tbody>\n",
       "    <tr>\n",
       "      <th>January</th>\n",
       "      <td>3.4</td>\n",
       "    </tr>\n",
       "    <tr>\n",
       "      <th>February</th>\n",
       "      <td>10.5</td>\n",
       "    </tr>\n",
       "    <tr>\n",
       "      <th>March</th>\n",
       "      <td>20.1</td>\n",
       "    </tr>\n",
       "    <tr>\n",
       "      <th>April</th>\n",
       "      <td>45.3</td>\n",
       "    </tr>\n",
       "    <tr>\n",
       "      <th>May</th>\n",
       "      <td>57.8</td>\n",
       "    </tr>\n",
       "    <tr>\n",
       "      <th>June</th>\n",
       "      <td>75.8</td>\n",
       "    </tr>\n",
       "    <tr>\n",
       "      <th>July</th>\n",
       "      <td>85.3</td>\n",
       "    </tr>\n",
       "    <tr>\n",
       "      <th>August</th>\n",
       "      <td>90.2</td>\n",
       "    </tr>\n",
       "    <tr>\n",
       "      <th>September</th>\n",
       "      <td>73.2</td>\n",
       "    </tr>\n",
       "    <tr>\n",
       "      <th>October</th>\n",
       "      <td>52.9</td>\n",
       "    </tr>\n",
       "    <tr>\n",
       "      <th>November</th>\n",
       "      <td>35.2</td>\n",
       "    </tr>\n",
       "    <tr>\n",
       "      <th>December</th>\n",
       "      <td>25.1</td>\n",
       "    </tr>\n",
       "  </tbody>\n",
       "</table>\n",
       "</div>"
      ],
      "text/plain": [
       "            max_temp_f\n",
       "month_name            \n",
       "January            3.4\n",
       "February          10.5\n",
       "March             20.1\n",
       "April             45.3\n",
       "May               57.8\n",
       "June              75.8\n",
       "July              85.3\n",
       "August            90.2\n",
       "September         73.2\n",
       "October           52.9\n",
       "November          35.2\n",
       "December          25.1"
      ]
     },
     "execution_count": 89,
     "metadata": {},
     "output_type": "execute_result"
    }
   ],
   "source": [
    "temp_df.set_index('month_name', inplace=True)\n",
    "temp_df"
   ]
  },
  {
   "cell_type": "markdown",
   "id": "fc89cad0",
   "metadata": {},
   "source": [
    "*Take a look at row 5 - use the `.loc` attribute of DataFrames to access rows*"
   ]
  },
  {
   "cell_type": "code",
   "execution_count": 40,
   "id": "4821703e",
   "metadata": {},
   "outputs": [
    {
     "data": {
      "text/plain": [
       "month     June\n",
       "temp_f    75.8\n",
       "Name: 5, dtype: object"
      ]
     },
     "execution_count": 40,
     "metadata": {},
     "output_type": "execute_result"
    }
   ],
   "source": []
  },
  {
   "cell_type": "markdown",
   "id": "545f6e01",
   "metadata": {},
   "source": [
    "*We'd like to be able to access temperature values by month name. The easiest way to do this in pandas is to set an Index, or a set of row names, using the `.set_index()` method of DataFrames. What was the maximum temperature in October?*"
   ]
  },
  {
   "cell_type": "code",
   "execution_count": 41,
   "id": "a8bd17ac",
   "metadata": {},
   "outputs": [
    {
     "data": {
      "text/plain": [
       "temp_f    52.9\n",
       "Name: October, dtype: float64"
      ]
     },
     "execution_count": 41,
     "metadata": {},
     "output_type": "execute_result"
    }
   ],
   "source": []
  },
  {
   "cell_type": "markdown",
   "id": "346bc6f4",
   "metadata": {},
   "source": [
    "*Take a look at your DataFrame again. is this what you would expect? Set the Index using the `inplace=True` argument so that it persists.*"
   ]
  },
  {
   "cell_type": "code",
   "execution_count": 42,
   "id": "1e2ab4f5",
   "metadata": {},
   "outputs": [
    {
     "data": {
      "text/html": [
       "<div>\n",
       "<style scoped>\n",
       "    .dataframe tbody tr th:only-of-type {\n",
       "        vertical-align: middle;\n",
       "    }\n",
       "\n",
       "    .dataframe tbody tr th {\n",
       "        vertical-align: top;\n",
       "    }\n",
       "\n",
       "    .dataframe thead th {\n",
       "        text-align: right;\n",
       "    }\n",
       "</style>\n",
       "<table border=\"1\" class=\"dataframe\">\n",
       "  <thead>\n",
       "    <tr style=\"text-align: right;\">\n",
       "      <th></th>\n",
       "      <th>temp_f</th>\n",
       "    </tr>\n",
       "    <tr>\n",
       "      <th>month</th>\n",
       "      <th></th>\n",
       "    </tr>\n",
       "  </thead>\n",
       "  <tbody>\n",
       "    <tr>\n",
       "      <th>January</th>\n",
       "      <td>3.4</td>\n",
       "    </tr>\n",
       "    <tr>\n",
       "      <th>February</th>\n",
       "      <td>10.5</td>\n",
       "    </tr>\n",
       "    <tr>\n",
       "      <th>March</th>\n",
       "      <td>20.1</td>\n",
       "    </tr>\n",
       "    <tr>\n",
       "      <th>April</th>\n",
       "      <td>45.3</td>\n",
       "    </tr>\n",
       "    <tr>\n",
       "      <th>May</th>\n",
       "      <td>57.8</td>\n",
       "    </tr>\n",
       "    <tr>\n",
       "      <th>June</th>\n",
       "      <td>75.8</td>\n",
       "    </tr>\n",
       "    <tr>\n",
       "      <th>July</th>\n",
       "      <td>85.3</td>\n",
       "    </tr>\n",
       "    <tr>\n",
       "      <th>August</th>\n",
       "      <td>90.2</td>\n",
       "    </tr>\n",
       "    <tr>\n",
       "      <th>September</th>\n",
       "      <td>73.2</td>\n",
       "    </tr>\n",
       "    <tr>\n",
       "      <th>October</th>\n",
       "      <td>52.9</td>\n",
       "    </tr>\n",
       "    <tr>\n",
       "      <th>November</th>\n",
       "      <td>35.2</td>\n",
       "    </tr>\n",
       "    <tr>\n",
       "      <th>December</th>\n",
       "      <td>25.1</td>\n",
       "    </tr>\n",
       "  </tbody>\n",
       "</table>\n",
       "</div>"
      ],
      "text/plain": [
       "           temp_f\n",
       "month            \n",
       "January       3.4\n",
       "February     10.5\n",
       "March        20.1\n",
       "April        45.3\n",
       "May          57.8\n",
       "June         75.8\n",
       "July         85.3\n",
       "August       90.2\n",
       "September    73.2\n",
       "October      52.9\n",
       "November     35.2\n",
       "December     25.1"
      ]
     },
     "execution_count": 42,
     "metadata": {},
     "output_type": "execute_result"
    }
   ],
   "source": []
  },
  {
   "cell_type": "markdown",
   "id": "02e5d047",
   "metadata": {},
   "source": [
    "*Write a **function** to convert a temperature from Fahrenheit to Celcius (subtract 32 then multiply by 5/9). Test it on the value 57.8 degrees F (roughly 14.3 degrees C)*"
   ]
  },
  {
   "cell_type": "code",
   "execution_count": 43,
   "id": "92d44858",
   "metadata": {},
   "outputs": [
    {
     "data": {
      "text/plain": [
       "14.333333333333334"
      ]
     },
     "execution_count": 43,
     "metadata": {},
     "output_type": "execute_result"
    }
   ],
   "source": []
  },
  {
   "cell_type": "markdown",
   "id": "000409ea",
   "metadata": {},
   "source": [
    "*Convert all the Fahrenheit values in your `temp_f` column using the `.apply()` method of pandas Series.*"
   ]
  },
  {
   "cell_type": "code",
   "execution_count": 44,
   "id": "9fe0dcc3",
   "metadata": {},
   "outputs": [
    {
     "data": {
      "text/plain": [
       "month\n",
       "January     -15.888889\n",
       "February    -11.944444\n",
       "March        -6.611111\n",
       "April         7.388889\n",
       "May          14.333333\n",
       "June         24.333333\n",
       "July         29.611111\n",
       "August       32.333333\n",
       "September    22.888889\n",
       "October      11.611111\n",
       "November      1.777778\n",
       "December     -3.833333\n",
       "Name: temp_f, dtype: float64"
      ]
     },
     "execution_count": 44,
     "metadata": {},
     "output_type": "execute_result"
    }
   ],
   "source": []
  },
  {
   "cell_type": "markdown",
   "id": "b69af5b4",
   "metadata": {},
   "source": [
    "*Plot the temperatures using the `.plot.bar()` method of DataFrames*"
   ]
  },
  {
   "cell_type": "code",
   "execution_count": 45,
   "id": "e0e7c298",
   "metadata": {},
   "outputs": [
    {
     "data": {
      "image/png": "[encoded data removed]",
      "text/plain": [
       "<Figure size 432x288 with 1 Axes>"
      ]
     },
     "metadata": {
      "needs_background": "light"
     },
     "output_type": "display_data"
    }
   ],
   "source": []
  }
 ],
 "metadata": {
  "kernelspec": {
   "display_name": "Python 3 (ipykernel)",
   "language": "python",
   "name": "python3"
  },
  "language_info": {
   "codemirror_mode": {
    "name": "ipython",
    "version": 3
   },
   "file_extension": ".py",
   "mimetype": "text/x-python",
   "name": "python",
   "nbconvert_exporter": "python",
   "pygments_lexer": "ipython3",
   "version": "3.8.13"
  },
  "varInspector": {
   "cols": {
    "lenName": 16,
    "lenType": 16,
    "lenVar": 40
   },
   "kernels_config": {
    "python": {
     "delete_cmd_postfix": "",
     "delete_cmd_prefix": "del ",
     "library": "var_list.py",
     "varRefreshCmd": "print(var_dic_list())"
    },
    "r": {
     "delete_cmd_postfix": ") ",
     "delete_cmd_prefix": "rm(",
     "library": "var_list.r",
     "varRefreshCmd": "cat(var_dic_list()) "
    }
   },
   "types_to_exclude": [
    "module",
    "function",
    "builtin_function_or_method",
    "instance",
    "_Feature"
   ],
   "window_display": false
  }
 },
 "nbformat": 4,
 "nbformat_minor": 5
}
